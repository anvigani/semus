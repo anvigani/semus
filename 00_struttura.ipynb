{
 "cells": [
  {
   "cell_type": "markdown",
   "id": "8e8a8b13",
   "metadata": {},
   "source": [
    "[Home](0_indice.ipynb)"
   ]
  },
  {
   "cell_type": "markdown",
   "id": "0ece3f9e-6346-40d0-9317-e1dc0cf6ec56",
   "metadata": {},
   "source": [
    "# Struttura del corso\n",
    "\n",
    "Data la **multidisciplinarietà** degli argomenti trattati il corso si svolgerà su **binari paralleli** secondo le seguenti modalità:\n",
    "* **Teorica** - esposizione e riflessioni collettive.\n",
    "* **Pratica** - acquisizione di competenze minime nell'utilizzo dei principali applicativi legati ai concetti espressi.\n",
    "  - codice generico (esempi in Python)\n",
    "  - videoscrittura musicale (Lilypond)\n",
    "  - DAW (Audacity)\n",
    "* **Creativa** - realizzazione di brevi testi musicali sotto forma di esercizi compositivi finalizzati alla comprensione degli aspetti teorici trattati.\n",
    "\n",
    "Il corso è strutturato in **quattro parti**:\n",
    "\n",
    "1. Introduzione ai **concetti generali** legati alla semiotica musicale.\n",
    "2. Approfondimento degli **elementi minimi** comuni ai diversi **linguaggi musicali**.\n",
    "3. Proposte e chiarimenti riguardo alla parte **creativa**.\n",
    "4. Teorie e sistemi dei principali **linguaggi musicali** della **tradizione occidentale**. "
   ]
  },
  {
   "cell_type": "markdown",
   "id": "cdd7191c-9451-4300-b153-e33c8c53ad6a",
   "metadata": {},
   "source": [
    "# Materiali\n",
    "\n",
    "Saranno forniti **diversi tipi** di materiali sul **sito del corso**.\n",
    "\n",
    "* Questo testo in **tre formati**:\n",
    "  * Jupyter notebook (interattivo).\n",
    "  * HTML (gli esempi in Python dovranno essere eseguiti su un editor come Visual Studio Code o simili).\n",
    "  * On line sul sito [musicaecodice.it](http://www.musicaecodice.it/)\n",
    "* Link a **siti** di interesse.\n",
    "* Documenti **pdf** di alcuni argomenti.\n",
    "* Bibliografia essenziale (per chi non può seguire).\n",
    "* Bibliografia consigliata (per chi volesse approfondire)."
   ]
  },
  {
   "cell_type": "markdown",
   "id": "936f19be-aee4-499a-ae25-af95624e9b12",
   "metadata": {},
   "source": [
    "# Software utili\n",
    "\n",
    "### Per eseguire gli esempi musicali in Python: \n",
    "\n",
    "1. installare [fluidsynth](https://www.fluidsynth.org/) "
   ]
  },
  {
   "cell_type": "code",
   "execution_count": null,
   "id": "da75b23b-dce8-4fd2-9319-b5eef4e7779b",
   "metadata": {},
   "outputs": [],
   "source": [
    "! brew install fluidsynth"
   ]
  },
  {
   "cell_type": "markdown",
   "id": "12c85d67-22a7-42ec-911e-348f899372c5",
   "metadata": {},
   "source": [
    "2. Installare il modulo [pyfluidsynth](https://pypi.org/project/pyFluidSynth/)"
   ]
  },
  {
   "cell_type": "code",
   "execution_count": null,
   "id": "e49bc40f-2808-4a94-bd05-4cf993755bfc",
   "metadata": {},
   "outputs": [],
   "source": [
    "! pip install pyfluidsynth"
   ]
  },
  {
   "cell_type": "markdown",
   "id": "be8a1b16-b430-40c8-8162-86a38b689a49",
   "metadata": {},
   "source": [
    "3. Per utenti Mac risolvere un possibile bug: [link](https://stackoverflow.com/questions/62478717/importerrorcouldnt-find-the-fluidsynth-library).\n",
    "\n",
    "4. Scaricare i [General MIDI Soundfont](https://member.keymusician.com/Member/FluidR3_GM/index.html)  \n",
    "\n",
    "5. Leggere questa breve [introduzione](https://ksvi.mff.cuni.cz/~dingle/2019/prog_1/python_music.html)\n",
    "\n",
    "6. Scaricare il [modulo python](rappresenta.zip) impiegato negli esempi dove sono impiegate **molte classi** di [Donald P.Pazel](https://github.com/dpazel/music_rep).\n",
    "7. Modificare il **path** nel **modulo** a linea 26 che porta ai **soundfont**."
   ]
  },
  {
   "cell_type": "markdown",
   "id": "9b7850ac-e002-41d6-b26a-d854693ee05d",
   "metadata": {},
   "source": [
    "### Per chi vuole utilizzare il formato Jupyter Notebook:\n",
    "\n",
    "1. installare [Anaconda distribution](https://www.anaconda.com/download)\n",
    "2. Aprire il **terminale** e digitare"
   ]
  },
  {
   "cell_type": "code",
   "execution_count": null,
   "id": "ca5ce0c4-8941-448f-970f-3d6ea364c512",
   "metadata": {},
   "outputs": [],
   "source": [
    "Jupyter notebook"
   ]
  },
  {
   "cell_type": "markdown",
   "id": "27c42462-847a-4c89-9d5a-33ac670f84a7",
   "metadata": {},
   "source": [
    "3. Navigare nelle directory fino al file **0_indice.ipynb**"
   ]
  },
  {
   "cell_type": "markdown",
   "id": "bea3be18-56d1-4d84-a4cb-509364bf6513",
   "metadata": {},
   "source": [
    "### Per gli esempi di **videoscrittura**:\n",
    "\n",
    "1. Installare [Lilypond](https://lilypond.org/download.it.html)\n",
    "2. Installare [Frescobaldi](https://www.frescobaldi.org/)\n",
    "3. Seguire la procedura per [collegare](https://lilypond.org/doc/v2.24/Documentation/learning/installing) i due software.\n",
    "\n",
    "In alternativa utilizzare questo [editor on line](https://www.hacklily.org/)"
   ]
  },
  {
   "cell_type": "markdown",
   "id": "f1cd59ae-75aa-43d8-8e72-56a716290696",
   "metadata": {},
   "source": [
    "### Per i progetti sonori:\n",
    "\n",
    "1. Installare [Audacity](https://www.audacityteam.org/)\n",
    "2. Installare la [FFMpeg library](https://support.audacityteam.org/basics/installing-ffmpeg) che permette la lettura e scrittura di formati compressi."
   ]
  }
 ],
 "metadata": {
  "kernelspec": {
   "display_name": "Python 3 (ipykernel)",
   "language": "python",
   "name": "python3"
  },
  "language_info": {
   "codemirror_mode": {
    "name": "ipython",
    "version": 3
   },
   "file_extension": ".py",
   "mimetype": "text/x-python",
   "name": "python",
   "nbconvert_exporter": "python",
   "pygments_lexer": "ipython3",
   "version": "3.12.4"
  }
 },
 "nbformat": 4,
 "nbformat_minor": 5
}
