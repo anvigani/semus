{
 "cells": [
  {
   "cell_type": "markdown",
   "id": "e9dde309",
   "metadata": {},
   "source": [
    "#### 2024-25"
   ]
  },
  {
   "cell_type": "markdown",
   "id": "79a21d9d",
   "metadata": {},
   "source": [
    "# Indice\n",
    "\n",
    "* [Struttura del corso](00_struttura.ipynb) "
   ]
  },
  {
   "cell_type": "markdown",
   "id": "5d1294dd",
   "metadata": {},
   "source": [
    "### Prima parte\n",
    "\n",
    "1. [Cenni di semiotica generale](1_generale.ipynb) \n",
    "2. [Cenni di acustica, teoria e semiografia musicale](2_acustica.ipynb) \n",
    "3. [Introduzione alla semiotica musicale](3_musicale.ipynb) \n",
    "4. [Rappresentazioni del suono e della musica](4_rappresenta.ipynb) "
   ]
  },
  {
   "cell_type": "markdown",
   "id": "715837d4",
   "metadata": {},
   "source": [
    "### Seconda parte\n",
    "5. [Temperamenti](5_tempera.ipynb)\n",
    "6. [Intervalli](6_intervalli.ipynb) \n",
    "7. [Modelli intervallari, tonalità, scale e modi](7_modiToniScale.ipynb) \n",
    "8. [Il tempo musicale](8_tempo.ipynb) \n",
    "9. [Note e aggregati orizzontali](9_note.ipynb) \n",
    "10. [Accordi e aggregati verticali](10_accordi.ipynb) \n",
    "11. [Strumenti e oggetti musicali](11_strumenti.ipynb) \n",
    "12. [Partiture musicali e sonore](12_partiture.ipynb) \n",
    "13. [Dinamica e agogica](13_dinago.ipynb) (in preparazione)"
   ]
  },
  {
   "cell_type": "markdown",
   "id": "6f577d28-ca0d-45fa-ac6e-db35375a59a1",
   "metadata": {},
   "source": [
    "### Terza parte\n",
    "14. [Modalità d'ascolto](...) (in preparazione)\n",
    "15. [Il processo creativo](...) (in preparazione)\n",
    "16. [Il discorso musicale](...) (in preparazione)"
   ]
  },
  {
   "cell_type": "markdown",
   "id": "4f364473-7b5e-45ac-9573-032bc3188fc0",
   "metadata": {},
   "source": [
    "### Quarta parte\n",
    "17. [Contrappunti](...) (in preparazione)\n",
    "18. [Armonie](...) (in preparazione)\n",
    "19. [Serialismi](...) (in preparazione)\n",
    "20. [Pattern](...) (in preparazione) "
   ]
  }
 ],
 "metadata": {
  "kernelspec": {
   "display_name": "Python 3 (ipykernel)",
   "language": "python",
   "name": "python3"
  },
  "language_info": {
   "codemirror_mode": {
    "name": "ipython",
    "version": 3
   },
   "file_extension": ".py",
   "mimetype": "text/x-python",
   "name": "python",
   "nbconvert_exporter": "python",
   "pygments_lexer": "ipython3",
   "version": "3.12.4"
  }
 },
 "nbformat": 4,
 "nbformat_minor": 5
}
