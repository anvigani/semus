{
 "cells": [
  {
   "cell_type": "markdown",
   "id": "8e8a8b13",
   "metadata": {},
   "source": [
    "[Home](0_indice.html)"
   ]
  },
  {
   "cell_type": "markdown",
   "id": "e9dde309",
   "metadata": {},
   "source": [
    "# Cenni di semiotica generale"
   ]
  },
  {
   "cell_type": "markdown",
   "id": "79a21d9d",
   "metadata": {},
   "source": [
    "## Indice"
   ]
  },
  {
   "cell_type": "markdown",
   "id": "5d1294dd",
   "metadata": {},
   "source": [
    "* [Definizione](#def)\n",
    "* [Segno, significante e significato](#segno)\n",
    "* [Emittente e destinatario](#emittente)\n",
    "* [Significazione e comunicazione](#significa)\n",
    "* [Inferenze e cultura](#inferenze)\n",
    "* [Differenza e valore](#differenze)\n",
    "* [Relazioni, narrazioni e testi](#relazioni)\n",
    "* [Forme e sostanze](#forme)\n",
    "* [Terminologia](#terminologia)\n",
    "* [Domande sospese](#domande) "
   ]
  },
  {
   "cell_type": "markdown",
   "id": "0b9807fa",
   "metadata": {},
   "source": [
    "## Definizione <a name=\"def\"></a>\n",
    "\n",
    "<center><video width=\"40%\" controls src=\"1_generale/suoni/segno.mp4\"></video></center>\n",
    "\n",
    "Scienza generale dei **segni**, della loro **produzione**, **trasmissione** e **interpretazione**, o dei modi in cui si **comunica** e si **significa** qualcosa, o si **produce** un **oggetto** comunque **simbolico**."
   ]
  },
  {
   "cell_type": "markdown",
   "id": "0977d0bb-ed08-4319-bbd9-3027f8b7e89b",
   "metadata": {},
   "source": [
    "## Segno, significante e significato <a name=\"segno\"></a>\n",
    "\n",
    "<center><img src=\"1_generale/score/montagne.png\" width=\"40%\"></center>"
   ]
  },
  {
   "cell_type": "markdown",
   "id": "dfcbda9c-2812-4e06-82d4-654cebe96571",
   "metadata": {},
   "source": [
    "* Andiamo a fare un'**escursione**\n",
    "* Stiamo **guidando** su una **strada di montagna**.\n",
    "* Vediamo macchine **parcheggiate** sul ciglio della strada.\n",
    "* Probabilmente il **sentiero** che cerchiamo inizia in quel punto.\n",
    "\n",
    "Possiamo considerare le tante **auto parcheggiate** un **segno** che ci ha **segnalato** l'inizio del sentiero.\n",
    "\n",
    "Le nostre **intenzioni**, il **contesto**, le **tracce** che abbiamo incontrato lungo il **tragitto** hanno **attivato** in noi un meccanismo di d'**azione** e **reazione** fatto di **tensioni**, **percezioni**, **aspetative**, **emozioni**, **interpretazioni**, etc.   \n",
    "\n",
    "Possiamo definire la **visione** del gruppo di **automobili** come **espressione significante** - ciò che ci ha fatto capire.\n",
    "\n",
    "La presenza dell'**inizio del sentero** invece possiamo definirla come **contenuto significato** - ciò che abbiamo capito.\n",
    "\n",
    "L'**unione** di questi due elementi da luogo a un **segno** che genera un **incremento del sapere**.\n",
    "\n",
    "L'avere **trovato** l'inizio del sentiero è quello che possiamo definire l'**effetto paradigmatco** del segno (cercavamo qualcosa che abbiamo trovato).\n",
    "\n",
    "Riassumendo: \n",
    "\n",
    "**significante** --> **significato** = **segno** = **incremento del sapere** = **effetto paradigmatico**."
   ]
  },
  {
   "cell_type": "markdown",
   "id": "5cc91be7-65df-4fa0-9fc7-ff4e6c5d2538",
   "metadata": {},
   "source": [
    "## Emittente e destinatario <a name=\"emittente\"></a>\n",
    "\n",
    "<center><img src=\"1_generale/score/nuvole.png\" width=\"40%\"></center>"
   ]
  },
  {
   "cell_type": "markdown",
   "id": "31901f24-f589-4ac1-a846-e6f5dac603eb",
   "metadata": {},
   "source": [
    "* Siamo **in cammino** sul sentiero.\n",
    "* Si **addensano** le **nuvole** (significante).\n",
    "* Capiamo che sta per **piovere** (significato).\n",
    "* Decidiamo di **tornare** alla macchina (effetto pratico).\n",
    "\n",
    "La situazione appena descritta pone l'attenzione sul fatto che i **segni** spesso hanno un effetto **pratico**.\n",
    "\n",
    "I segni mettono in **relazione** qualcosa di **percettivo** (la visione dlle macchine o delle nuvole) con qualcosa di **cognitivo** (presenza del sentiero o pioggia imminente).\n",
    "\n",
    "Non sono i **segni** ad essere **significanti** ma la loro **percezione** da parte di qualcuno.\n",
    "\n",
    "Il segno dunque **non** è una cosa che **rappresenta** un'altra cosa.\n",
    "\n",
    "Il segno è la **relazione** che **qualcuno** instaura tra **due elementi**:\n",
    "* uno con una dimensione **sensibile** (vista dlle nuvole)\n",
    "* l'altro con una dimensione **intellegibile** (lo colleghiamo alla possibile pioggia).\n",
    "\n",
    "Questa **relazione** avviene a **posteriori** e **non è** necessariamente **intenzionale** da parte  dell'emittente (le nuvole non sono messaggere della pioggia così come chi ha parcheggiato sul ciglio della strada non voleva comunicarci l'inizio del sentiero).\n",
    "\n",
    "Possiamo **collegare** significante e significato solo grazie a un **fattore esperienziale** (in precedenza quando abbiamo visto quegli addensamenti nuvolosi ha piovuto).\n",
    "\n",
    "Riassumendo: \n",
    "\n",
    "**significante** (emittente, percettivo, non necessariamente intenzionale) --> **significato** (destinatario, cognitivo, a posteriori)."
   ]
  },
  {
   "cell_type": "markdown",
   "id": "018d899e-d21b-4c50-baca-d5a174aa2418",
   "metadata": {},
   "source": [
    "## Significazione e comunicazione <a name=\"significa\"></a>\n",
    "\n",
    "<center><img src=\"1_generale/score/cartello.png\" width=\"40%\"></center>"
   ]
  },
  {
   "cell_type": "markdown",
   "id": "c94daa21-63c4-47bc-9187-eab4ee437d29",
   "metadata": {},
   "source": [
    "Negli **esempi** appena esposti il **segno** non viene **prodotto** da chi rende possibile la costruzione del **significato** ma da chi lo **vede** e **interpreta**. \n",
    "\n",
    "Tuttavia siamo costantemente **circondati** da una **molteplicità di segni** prodotti **inconsapevolmente** così come **noi stessi** ne **produciamo** in continuazione (in modo di camminare, quello di cui parliamo, come ci vestiamo, etc.) nella costruzione della nostra **identità sociale**.\n",
    "\n",
    "Tutti questi segni sono **potenzialmente** in grado di diventare **espressione significante** se **interpretati** da un **destinatario** nell'atto generale che possiamo definire **significazione**.\n",
    "\n",
    "Quando parliamo di **comunicazione** il **segno** è **volontariamente prodotto** dall'**emittente** per **trasmettere un messaggio** come ad esempio i **cartelli** nell'**immagine** precedente oppure le stesse **immagini** all'interno di questo testo. \n",
    "\n",
    "Riassumendo: \n",
    "\n",
    "**significazione** - fenomeno generale dove il **senso** si coglie dalla **fine** ad opera del **ricevente**.\n",
    "**comunizazione** - l'**emittente** attiva **volutamente** la trasmissione di un **messaggio**."
   ]
  },
  {
   "cell_type": "markdown",
   "id": "326ae280-1113-427f-9e02-284482d0b500",
   "metadata": {},
   "source": [
    "## Inferenze e cultura <a name=\"inferenze\"></a>\n",
    "\n",
    "<center><img src=\"1_generale/score/parcheggio.png\" width=\"40%\"></center>"
   ]
  },
  {
   "cell_type": "markdown",
   "id": "745d5937-e512-4382-b5ee-0ce128f12dee",
   "metadata": {},
   "source": [
    "Alcune **domande** spontanee...\n",
    "\n",
    "* Su cosa si basa la **relazione** tra **significanti** e **significati** attivata dal **destinatario**?\n",
    "* Questa **relazione** è **sempre valida** e in qualche modo **implicita al significante** oppure dipende da **contesto** e **condizioni**?\n",
    "\n",
    "Ragioniamo sull'esempio delle **nuvole** e della **pioggia**.\n",
    "\n",
    "Non c'è alcuna **legge universale** secondo la quale **ogni volta** che ci **sono** delle **nuvole** in cielo **pioverà**.  \n",
    "\n",
    "La relazione si è instaurata per **generalizzazione induttiva** a **posteriori** codificata in **regola iterpretativa** - spesso è piovuto dopo aver osservato nuvole nel cielo e quindi ogni qualvolta le incontriamo le associamo al fenomeno.\n",
    "\n",
    "Vale anche per l'esempio delle **macchine parcheggiate** sul ciglio della strada?\n",
    "\n",
    "In questo caso: \n",
    "* **non esiste** alcuna **legge universale** secondo la quale **ogni volta** che osserviamo **auto parcheggiate** c'è la partenza di un **sentiero** nelle vicinanze.\n",
    "* **non esiste** neppure una **regola interpretativa** instaurata per **generalizzazione induttiva** in quanto le auto parcheggiate **raramente** indicano l'inizio di un sentiero.\n",
    "\n",
    "La nostra **inferenza** ovvero il **modo di ragionare** che ha portato alla **significazione** è stata indotta:\n",
    "\n",
    "* dalla **dimensione contingente** (luogo e contesto).\n",
    "* dalla **dimensione affettiva** (entusiasmo per l'escursione, aspettativa nella ricerca del sentiero per cominciare a camminare, etc.).\n",
    "* dalla **cultura di riferimento** ovvero quell'insieme di **saperi**, sistema di valori, **abitudini** e forme di comportamento (tra le quali la **passione per la montagna**) entro cui **siamo soliti dimorare** e che ci hanno quasi **naturalmente** condotto a **quella conclusione** e non a un altra.\n",
    "\n",
    "Le **inferenze cognitive** impiegate quotidianamente nelle nostre **interpretazioni** non sono totalmente **personali** o **soggettive** ma si basano su precisi **codici**.\n",
    "\n",
    "Questi **codici**:\n",
    "\n",
    "* sono **sistemi formali** che trascendono le **scelte** del **singolo individuo** spesso **imponendo** l'uso di determinate **categorie mentali**.\n",
    "* non hanno nulla di **universale**.\n",
    "* sono **stabilzzazioni** più o meno **durature** di modi **collettivi** di **pensare**, di **agire**, di **desiderare** e di **preferire**.\n",
    "* sono dettati, mantenuti e modificati dalla **pressione sociale**.\n",
    "* sono **consuetudini** sociali e **culturali**, abitudini **interpretative** che assumono l'aspetto di una **legge** (senza comunque esserlo).\n",
    "\n",
    "Se non avessimo **condiviso** con le tante persone che hanno **parcheggiato** l'auto il giorno dell'escursione la **stessa cultura** e fatto parte della **stessa società** quel **segno** semplicemente **non esisterebbe**. \n",
    "\n",
    "Il segno non sta nelle **cose** o nelle **idee** ma nelle forme della loro **relazione**.\n",
    "\n",
    "Riassumendo:\n",
    "\n",
    "La **relazione** tra **significante** e **significato** si instaura:\n",
    "\n",
    "* per **generalizzazione induttiva** a **posteriori** codificata in **regola iterpretativa**.\n",
    "* per **inferenze cognitive** costruite su **codici** in continua **mutazione** dettati dalla **pressione sociale** della **cultura di riferimento**."
   ]
  },
  {
   "cell_type": "markdown",
   "id": "1fcc68f3-61ef-40bf-85b6-9eaba1919ab9",
   "metadata": {},
   "source": [
    "## Differenza e valore <a name=\"differenze\"></a>\n",
    "\n",
    "<center><img src=\"1_generale/score/valore.png\" width=\"40%\"></center>"
   ]
  },
  {
   "cell_type": "markdown",
   "id": "0abf0162-d153-4618-8118-4183bd81eec3",
   "metadata": {},
   "source": [
    "I **codici** di cui sopra sono dunque convenzioni **antropologiche**.\n",
    "\n",
    "Le **relazioni** tra **espressioni** e **contenuti** sono legate a **valori**, a ordini di **preferenze**, di **gusti**, di estrema **complessità** che sono:\n",
    "\n",
    "* **arbitrari** (se visti dall'esterno)\n",
    "* **indiscussi** (se visti dall'interno)\n",
    "\n",
    "Il **segno** nasce per **differenza** ovvero quando si concretizza una **discontinuità sensoriale** come quando nel procedere in macchina sulla strada di montagna incontriamo le auto parcheggiate.\n",
    "\n",
    "Lo **scarto percettivo** fa riemergere qualcosa di **significativo**, importante a cui **diamo valore** distinguendolo dagli **altri segni** incontrati lungo la strada.\n",
    "\n",
    "Gli **diamo valore** in **due modi**:\n",
    "* siamo **felici** perchè abbiamo trovato ciò che **cercavamo** ovvero la possibilità di iniziare una bella **escursione in montagna**.\n",
    "* abbiamo **raggiunto** ciò che cercavamo attraverso un **itinerario di conoscenza** che ci ha fatto tenere alta l'**attenzione** (osservare i cartelli, l'ambiente, altri segni, etc.) e **valutare comparando** le cose (sarebbe meglio fermarsi al ristorante o andare a camminare?).\n",
    "\n",
    "Possiamo allora affermare che i **codici sociali** non trascendono completamente le **scelte individuali** ma **sono legati** ai modi secondo i quali l'individuo li assume mediando tra i **valori collettivi** e quelli **individuali**.\n",
    "\n",
    "Riassumendo: \n",
    "\n",
    "* Il **valore** è ciò **verso cui si punta** e che dirige la nostra serie di **azioni** e **passioni** dando un **senso** preciso a ciascuna di esse secondo un **percorso implicito**.\n",
    "* Il **valore** sorge nella **comparazione valutativa** delle cose, degli oggetti, nel **riscontro delle differenze** maggiori comparazioni valutative lungo il mercorso maggiore sarà il valore.\n",
    "* La continua **mediazione** tra valori **collettivi** e **individuali** genera i cambiamenti dei **codici antropologici**.\n",
    "\n",
    "  <center><video width=\"40%\" controls src=\"1_generale/suoni/sordi.mp4\"></video></center>"
   ]
  },
  {
   "cell_type": "markdown",
   "id": "a74f41f6-1e9d-461e-9102-6b1884355ec8",
   "metadata": {},
   "source": [
    "## Relazioni, narrazioni e testi <a name=\"relazioni\"></a>\n",
    "\n",
    "<center><img src=\"1_generale/score/neuro.png\" width=\"80%\"></center>"
   ]
  },
  {
   "cell_type": "markdown",
   "id": "2aaac7f3-7a5f-4690-9022-ad4d75f8f30d",
   "metadata": {},
   "source": [
    "Il **segno** è solo la punta di un **iceberg** semiotico.\n",
    "\n",
    "**Funziona** grazie al fatto che:\n",
    "\n",
    "* si **scompone** in tanti **piccoli elementi** in relazione tra loro.\n",
    "* va a **comporre** entità più grandi relazionandosi ad altri segni analoghi.\n",
    "\n",
    "Le **auto** parcheggiate **significano** la scoperta del sentiero:\n",
    "* per la loro inusuale **quantità** in quel luogo.\n",
    "* per il **modo** in cui sono parcheggiate sul ciglio.\n",
    "* perchè si **infittiscono** in porssimità del sentiero e successivamente si **diradano**.\n",
    "* perchè sono in quel **luogo** e non in un altro.\n",
    "* perchè assumono **valore** grazie a **relazioni differenziali** con altri segni.\n",
    "* perchè **stiamo cercando** l'inizio del **sentiero** e non qualcosa d'**altro**.\n",
    "* perchè tutti questi e altri elementi si inserisono in una **storia** che si svolge in un preciso lasso di **tempo**.\n",
    "* perchè questa **narrazione** è vista attraverso una precisa **prospettiva valoriale**, culturale e antropologica (escursione in montagna).\n",
    "* perchè siamo in un determinato **stato emozionale** (tenzione positiva generata dall'attesa di poter cominciare qualcosa che ci piace).\n",
    "* perchè...\n",
    "\n",
    "Le **relazioni** che si instaurano tra questi **elementi** in una **narrazione** generano il **codice** attraverso il quale quel **significante** rimanda a quel **probabile significato** e non a **un altro** formando quello che possiamo chiamare un **testo dinamico**.\n",
    "\n",
    "I **segni** funzionano perchè si **intrecciano in testi**.\n",
    "\n",
    "Le **parole** di una lingua sono come i **segni** ovvero:\n",
    "\n",
    "* il risultato variabile di **relazioni** costanti tra **elementi più piccoli** (morfemi, fonemi, tratti sonori)\n",
    "* esse stesse **entità** che compongono **strutture** più ampie (frasi, testi, discorsi).\n",
    "\n",
    "Ogni **elemento** più **grande** in condizione di **significare** trascende gli elementi **più piccoli**.\n",
    "\n",
    "Il significato di una **frase** trascende il significato delle **singole parole** che la compongono così come dei **singoli fonemi**.\n",
    "\n",
    "I **testi** non sono solo **libri**, documenti, etc. ma una qualsiasi **porzione di mondo** con: \n",
    "\n",
    "* **limiti** determinati (contesto)\n",
    "* precisa **articolazione interna** (codice)\n",
    "\n",
    "che porta una qualche **configurazione di senso** o meglio una **significazione**.\n",
    "\n",
    "La **significazione** per poter:\n",
    "\n",
    "* essere **prodotta**\n",
    "* **circolare**\n",
    "* essere **recepita**\n",
    "* essere **trasformata**\n",
    "\n",
    "deve far **riferimento** a testi o **unità di senso** che le varie **società**, **epoche storiche** e **culture** impiegano per definire i propri **valori** di fondo.\n",
    "\n",
    "<center><video width=\"40%\" controls src=\"1_generale/suoni/storia.mp4\"></video></center>"
   ]
  },
  {
   "cell_type": "markdown",
   "id": "2d08e7c0-4a48-4491-8622-c7d6a6f2a818",
   "metadata": {},
   "source": [
    "## Forme e sostanze <a name=\"forme\"></a>\n",
    "\n",
    "<center><img src=\"1_generale/score/media.png\" width=\"40%\"></center>"
   ]
  },
  {
   "cell_type": "markdown",
   "id": "cb8d8a68-2646-410b-ade3-1aba5debb1f9",
   "metadata": {},
   "source": [
    "I **testi** di cui si occupa la **semiotica** sono:\n",
    "\n",
    "* i **libri**, gli **audiovisivi**, le **musiche**, le **opere teatrali**, fino a **Facebook** e **You Tube**.\n",
    "* la forma profonda e involontaria dell'**esperienza umana** sia individuale che sociale.\n",
    "\n",
    "La **quotidianità** è colma di **significazione** più o meno volontaria.\n",
    "\n",
    "La **significazione** è il **liquido amniotico** entro cui vive l'**essere umano**.\n",
    "\n",
    "Il **compito** della **semiotica** è quello di **metterle in luce** e di chiarirne i **meccanismi di funzionamento**.  \n",
    "\n",
    "Questo compito è spesso **nascosto** nel **vissuto quotidiano**.\n",
    "\n",
    "Se ad esempio **chiediamo** a qualcuno **perchè gli piace** un **brano musicale** oppure un **vestito** piuttosto che un **piatto**, probabilmente ci **risponderà**:\n",
    "* perchè è **bello**\n",
    "* perchè **mi emoziona**\n",
    "* perchè è **giusto così**\n",
    "* perchè...\n",
    "\n",
    "Il **senso** spesso si nasconde dietro motivazoni **di altra natura** che tendono a **sopprimerlo**.\n",
    "\n",
    "Pensiamo nuovamente alla **lingua** scritta e parlata.\n",
    "\n",
    "Nell'usarla mettiamo in **pratica** un **sapere** estrememente **complesso** che tendenzialmente **non** siamo in grado di **spiegare**.\n",
    "\n",
    "Difficilmente saremmo in grado di **spiegare** a fondo tutte le **regole** grammaticali, fonetiche, morfologiche e sintattiche che mettiamo in **pratica** quotidianamente.\n",
    "\n",
    "La lingua è una **conoscenza pratica** sulla quale **non** si **ragiona** quasi mai (se non siamo linguisti di professione).\n",
    "\n",
    "Anche il nostro **vissuto quotidiano** funziona allo **stesso modo** ovvero ci appare come **casuale** e **spontanea**, **immediata** ma in realtà si **fonda** su una **fittissima** e continuamente **cangiante** rete di **relazioni** tra **cose**, **persone**, **luoghi**, etc.\n",
    "\n",
    "Nell'**escursione** di cui sopra siamo **felici** di trascorrere una **bella giornata** e poco ci importa dei **meccanismi** attraverso i quali abbiamo **trovato il sentiero**.\n",
    "\n",
    "Nell'**esercizio** della nostra **vita** in realtà non facciamo altro che **emettere** e **recepire testi** di diversa fattura e dimensione, con **significati** molto **differenti** tra loro ma probabilmente con gli stessi **meccanismi di funzionamento** o **forme dell'espressione** e **forme del contenuto**.  \n",
    "\n",
    "Queste **forme** sono quasi tutte di **tipo narrativo**.\n",
    "\n",
    "Le **storie** per tutte le **culture** antiche e moderne sono sempre state la **linfa vitale** entro cui diamo **senso** alle nostre **azioni** e **passioni** e gli **eventi** che accadono al loro interno **assumono** un preciso **valore**.\n",
    "\n",
    "Le storie possono essere **individuali** (la nostra o quella di amici, parenti o conoscenti **narrate** o espresse sui **social media**)  opure **collettive** (i **miti**, le **leggende**, le narrazioni **televisive**, radiofiniche, pubblicitarie, etc.).\n",
    "\n",
    "Le **grandi narrazioni** sono entrate in **crisi** a favore delle **piccole** che danno senso alla nostra vita.\n",
    "\n",
    "<center><video width=\"40%\" controls src=\"1_generale/suoni/senso.mp4\"></video></center>"
   ]
  },
  {
   "cell_type": "markdown",
   "id": "534bbc49-165f-434c-926a-515262666e8e",
   "metadata": {},
   "source": [
    "## Terminologia <a id='terminologia'></a>\n",
    "\n",
    "* **Significante** - (emittente, percettivo, non necessariamente intenzionale)\n",
    "* **Significato** - (destinatario, cognitivo, a posteriori).\n",
    "* **Segno** - relazione tra **significante** e **significato**.\n",
    "* **Effetto paradigmatico**. - incermento del sapere generato dal segno.\n",
    "* **Significazione** - fenomeno generale dove il **senso** si coglie dalla **fine** ad opera del **ricevente**.\n",
    "* **Comunizazione** - l'**emittente** attiva **volutamente** la trasmissione di un **messaggio**.\n",
    "* **Codice antropologico** - sistema di regole di una **cultura di riferimento**.\n",
    "* **Valore** - ciò **verso cui si punta** e che dirige la nostra serie di **azioni** e **passioni** dando un **senso** preciso a ciascuna di esse secondo un **percorso implicito**."
   ]
  },
  {
   "cell_type": "markdown",
   "id": "29dee97e-eddf-400f-b7e3-9456a2c78368",
   "metadata": {},
   "source": [
    "## Domande sospese <a name=\"domande\"></a>\n",
    "\n",
    "* **Ascolti 1**\n",
    "  \n",
    "  <audio controls src='1_generale/suoni/uccellini.mp3'></audio>\n",
    "\n",
    "  <audio controls src='1_generale/suoni/bach_1.mp3'></audio>\n",
    "     * Che **contenuto significato** hanno queste **espressioni significanti acustiche**?\n",
    "     * Che tipo di **incremento del sapere** si è realizzato dopo averle ascoltati?\n",
    "     * Qual'è la principale **differenza semiotica** tra i due **documenti sonori**?"
   ]
  },
  {
   "cell_type": "markdown",
   "id": "d0ede1bd-f9c6-4aa8-859d-fb1b72a2db17",
   "metadata": {},
   "source": [
    "* **Ascolti 2**\n",
    "\n",
    "  <audio controls src='1_generale/suoni/annuncio.mp3'></audio>\n",
    "  \n",
    "  <audio controls src='1_generale/suoni/pubbli.mp3'></audio>\n",
    "  \n",
    "  <audio controls src='1_generale/suoni/ligeti.mp3'></audio>\n",
    "    * I **testi sonori** appena ascoltati appartengono tutti al mondo della **comunicazione**\n",
    "    * Quali sono le caratteristiche che ne **differenziano** il **senso** da parte del **ricevente**?"
   ]
  },
  {
   "cell_type": "markdown",
   "id": "86683c50-f721-4cd1-ac4b-36494b0069e4",
   "metadata": {},
   "source": [
    "* **Ascolti 3**\n",
    "\n",
    "  <audio controls src='1_generale/suoni/miles.mp3'></audio>\n",
    "\n",
    "  <audio controls src='1_generale/suoni/rameau.mp3'></audio>\n",
    "\n",
    "  <audio controls src='1_generale/suoni/gamelan.mp3'></audio>\n",
    "\n",
    "     * Se presenti, quali sono le **differenze semiotiche** che diversificano i tre **testi sonori** appena ascoltati? "
   ]
  },
  {
   "cell_type": "markdown",
   "id": "cca33730-f480-4242-ad65-f66353b6a5a0",
   "metadata": {},
   "source": [
    "* **Visione 1**\n",
    "\n",
    "  <center><video width=\"40%\" controls src=\"1_generale/suoni/storia.mp4\"></video></center>\n",
    "\n",
    "    * che **tipo** di narrazione è?\n",
    "    * quale o quali sono gli **elementi significanti** attraverso i quali si svolge la **narrazione**?"
   ]
  }
 ],
 "metadata": {
  "kernelspec": {
   "display_name": "Python 3 (ipykernel)",
   "language": "python",
   "name": "python3"
  },
  "language_info": {
   "codemirror_mode": {
    "name": "ipython",
    "version": 3
   },
   "file_extension": ".py",
   "mimetype": "text/x-python",
   "name": "python",
   "nbconvert_exporter": "python",
   "pygments_lexer": "ipython3",
   "version": "3.12.4"
  }
 },
 "nbformat": 4,
 "nbformat_minor": 5
}
