{
 "cells": [
  {
   "cell_type": "markdown",
   "id": "8e8a8b13",
   "metadata": {},
   "source": [
    "[Home](0_indice.html)"
   ]
  },
  {
   "cell_type": "markdown",
   "id": "e9dde309",
   "metadata": {},
   "source": [
    "# Cenni di Acustica, teoria e semiografia musicale"
   ]
  },
  {
   "cell_type": "markdown",
   "id": "5d1294dd",
   "metadata": {},
   "source": [
    "* [Definizioni](#def)\n",
    "* [Suono, onde sonore e musica](#suono)\n",
    "* [Altezza o frequenza](#freq)\n",
    "  * [Onde periodiche](#periodo)\n",
    "  * [Rappresentazioni](#rappresentafreq)\n",
    "* [Dinamica o ampiezza](#amp)\n",
    "  * [Intensità sonora](#intensita)\n",
    "  * [Rappresentazioni](#rappresentaamp)\n",
    "* [Strumenti o timbro](#timbro)\n",
    "  * [Spettri sonori](#spettri)\n",
    "  * [Suoni parziali](#parziali)\n",
    "* [Tempo e pulsazioni](#tempo)\n",
    "  * [Onsets, delta e durate](#onsets)\n",
    "  * [Unità di misura](#rappresentatempo)\n",
    "  * [Suddivisioni e rappresentazioni](#rappresentamusica)\n",
    "  * [Tempi e misure](#tempi)\n",
    "* [Terminologia](#terminologia)\n",
    "* [Domande sospese](#domande) "
   ]
  },
  {
   "cell_type": "code",
   "execution_count": 1,
   "id": "ac9e0fa6-78fd-435e-a1c1-741a75deb465",
   "metadata": {},
   "outputs": [],
   "source": [
    "import os\n",
    "import sys\n",
    "path = os.path.abspath('music_rep_master') # Restituisce il path assoluto della cartella\n",
    "sys.path.append(path)                      # Include la cartella nel path di lavoro\n",
    "from main import *                         # Importa tutte le cLassi del modulo"
   ]
  },
  {
   "cell_type": "markdown",
   "id": "da7c6080",
   "metadata": {},
   "source": [
    "## Definizioni <a name=\"def\"></a>\n",
    "\n",
    "**Acustica** - Scienza che studia il **suono**, le sue **proprietà**, il suo meccanismo di formazione, propagazione, ricezione, ecc.; è una delle parti in cui didatticamente si suddivide la **fisica** e rientra nella **meccanica** intesa in senso lato.\n",
    "\n",
    "**Teoria musicale** - Disciplina che considera i **fondamenti** della musica e ne fornisce un **sistema** per poterli **articolare** e utilizzare in un **linguaggio compositivo**.\n",
    "\n",
    "**Semiografia** - Sistema di **notazione** o di scrittura abbreviata **mediante segni convenzionali**. "
   ]
  },
  {
   "cell_type": "markdown",
   "id": "1e4ef58a",
   "metadata": {},
   "source": [
    "## Suono, onde sonore e musica<a name=\"suono\"></a>\n",
    "\n",
    "Il suono è un **fenomeno fisico** che viene **generato** attraverso la produzione di **onde sonore** da parte di un **corpo elastico** messo in  **vibrazione** chiamato **sorgente sonora** (strumento musicale, corde vocali, membrana di un altoparlante. etc.) che provoca piccole **variazioni** nella **pressione atmosferica**. "
   ]
  },
  {
   "cell_type": "markdown",
   "id": "fe64e3f0-9744-41c2-ad8c-5e28dfd82d9b",
   "metadata": {},
   "source": [
    "<center><img src=\"2_acustica/score/suono_1.png\" width=\"60%\"></center>"
   ]
  },
  {
   "cell_type": "markdown",
   "id": "55aebedb-bbae-483f-9996-37cfadcae3b4",
   "metadata": {},
   "source": [
    "In fisica un’onda è una **perturbazione** che si propaga nello **spazio** e che può **trasportare energia** da un punto all’altro.\n",
    "\n",
    "Per produrre suono la **sorgente sonora** deve essere **immersa** all’interno di un **mezzo elastico** che solitamente ma non necessariamente è l’**aria**.\n",
    "\n",
    "Quando un'onda **viaggia** in un **mezzo elestico** la sostanza di questo mezzo è **temporaneamente deformata**.\n",
    "\n",
    "Le onde sonore si **propagano** attraverso **collisioni** tra **molecole** vicine.\n",
    "\n",
    "Dopo la collisione le molecole **tornano indietro** in direzione opposta, **oscillando** intorno ad una **posizione** quasi **fissa**.\n",
    "\n",
    "Le onde sonore sono **onde meccaniche longitudinali** in quanto le **oscillazioni** sono **parallele** alla **direzione** della **propagazione**.\n",
    "\n",
    "<center><video width=\"90%\" autoplay=\"true\" loop=\"true\" controls src=\"2_acustica/suoni/onda.mp4\"></video></center>"
   ]
  },
  {
   "cell_type": "markdown",
   "id": "7634aabf-3fc9-4270-9d11-af0d2072f949",
   "metadata": {},
   "source": [
    "Pensiamo ai puntini più a **sinistra** (quelli compresi tra i limiti +/- 1) come a **molecole attigue** alla **membrana** di un **altoparlante** che vengono spostate attraverso la forza del suo **movimento** generando in questo modo un'**onda sonora**.\n",
    "\n",
    "I suoni **non necessitano** di qualcuno che li **ascolti**, semplicemente **esistono** sulla terra. \n",
    "\n",
    "Nel corso del suo **tragitto** all’interno del corpo vibrante un’onda sonora però può incontrare un **apparato** in grado di **trasformare** (ed eventualmente elaborare) l’**energia** sonora in energia di **altra forma**.\n",
    "\n",
    "\n",
    "* il **sistema uditivo** umano **trasforma** le variazioni di pressione atmosferica in **impulsi nervosi**.\n",
    "\n",
    "* un **microfono** trasforma le variazioni di **pressione atmosferica** in variazioni di **tensione elettrica**."
   ]
  },
  {
   "cell_type": "markdown",
   "id": "b888c349-95bb-4e38-bc17-9c54a93bcc32",
   "metadata": {},
   "source": [
    "<center><img src=\"2_acustica/score/suono_2.png\" width=\"40%\"></center>"
   ]
  },
  {
   "cell_type": "markdown",
   "id": "7a130f28-9a53-459a-aaec-11d327bf891e",
   "metadata": {},
   "source": [
    "Nel primo caso le **onde sonore** sono recepite dai nostri **sensi** come **inputs**, stimoli che il nostro cervello **interpreta** come **informazioni**.\n",
    "\n",
    "L'atto di **ascoltare** infatti è uno dei mezzi di **conoscenza** del mondo che ci circonda forniti dai nostri **sensi**. \n",
    "\n",
    "<audio controls src='2_acustica/suoni/leone.mp3'></audio>"
   ]
  },
  {
   "cell_type": "markdown",
   "id": "67a463e8-6f4e-4c5f-a41c-26b53583846e",
   "metadata": {},
   "source": [
    "Lo **stimolo sonoro** che abbiamo appena percepito è **esistito** nella **realtà delle cose** esclusivamente sotto forma di piccole variazioni della **pressione atmosferica** ma il nostro **cervello** le ha **interpretate** come il **ruggito di un leone**.\n",
    "\n",
    "In qualità di **esseri umani** siamo infatti usi a **generare**, interpretare, dedurre, richiamare o creare nuove **informazioni** stimolati da informazioni **esterne**. \n",
    "\n",
    "Riassumendo:\n",
    "\n",
    "* Le **onde sonore** sono un **messaggio** informativo **obiettivo** (fenomeno fisico - minuscole variazioni di **pressione atmosferica**).\n",
    "\n",
    "\n",
    "* Se **intercettate** da un essere **umano** sono **trasdotte** dai nostri sensi (**apparato uditivo**) sotto forma di **impulsi nervosi** in modo **obiettivo** ma **non lineare** e dipendente dalle **caratteristiche fisiologiche** della singola persona.\n",
    "\n",
    "\n",
    "* L'**informazione** proveniente dagli impusi nervosi è **interpretata** dal nostro cervello secondo diverse modalità.\n",
    "\n",
    "Una **definizione** ridotta ai minimi termini di **musica** può essere:\n",
    "\n",
    "* la musica è un qualche tipo di **organizzazione** dei suoni nel **tempo** che fornisce un qualche tipo di **informazioni** all'ascoltatore - ricevente.\n",
    "\n",
    "  \n",
    "Gli **elementi** che sono **organizzati** in un qualunque **sistema musicale** corripondono alle **proprietà fisiche** del suono:\n",
    "\n",
    "* **Altezza** (frequenza)\n",
    "* **Dinamica** (ampiezza)\n",
    "* **Timbro** (strumentazione o tecnica di sintesi e/o elaborazione)\n",
    "* **Tempo** (ritmo)\n",
    "\n",
    "Ritornando a un **esempio** proposto nel capitolo [cenni di semiotica generale](1_generale.html):\n",
    "\n",
    "**Suono**\n",
    "\n",
    "<audio controls src='2_acustica/suoni/uccellini.mp3'></audio>\n",
    "\n",
    "**Musica**\n",
    "\n",
    "<audio controls src='2_acustica/suoni/bach_1.mp3'></audio>\n",
    "\n",
    "In entrambi gli esempi possiamo **misurare** ed eventualmente **organizzare** le **proprietà sonore** appena esposte."
   ]
  },
  {
   "cell_type": "markdown",
   "id": "953c7ab1-1a6a-422d-9274-5e5cc5d8a300",
   "metadata": {},
   "source": [
    "## Altezza o frequenza  <a id='freq'></a> \n",
    "\n",
    "L’altezza (o frequenza) di un suono è il parametro legato alla sensazione di **gravità/acutezza** che si percepisce e dipende dalle frequenze di variazione delle **onde elementari** che compongono l’**onda sonora**.\n",
    "\n",
    "<audio controls src='2_acustica/suoni/altezze.mp3'></audio>"
   ]
  },
  {
   "cell_type": "markdown",
   "id": "3fdcce87-911b-4860-b16d-737e12c97247",
   "metadata": {},
   "source": [
    "### Onde periodiche <a id='periodo'></a> \n",
    "\n",
    "Un'**onda periodica** è data da un **fenomeno vibratorio** che si **ripete** identico a se stesso a **intervalli di tempo** uguali. \n",
    "   * se il singolo intervallo viene misurato nel **tempo** è chiamato **periodo** (o ciclo) dell'onda e rappresentato dalla lettera **T**. \n",
    "   * se il singolo intervallo viene misurato nello **spazio** è chiamato **lunghezza** dell'onda e rappresentato dalla lettera **$\\lambda$** - lambda.\n",
    "   \n",
    "\n",
    "Possiamo rappresentare **graficamente** un **onda** attraverso un **sistema** di riferimento **cartesiano**:\n",
    "\n",
    "  * asse delle **ascisse** (x) = scorrere del **tempo** \n",
    "  * asse delle **ordinate** (y) = variazioni di **pressione atmosferica**\n",
    "  \n",
    "La **frequenza** di un suono periodico è **misurata** in **Hertz** o **cps** (cicli per secondo) ovvero si misura quante volte il **periodo** si **ripete** uguale in un **secondo**.\n",
    "\n",
    "<center><img src=\"2_acustica/score//cicli.png\" width=\"80%\"></center>\n",
    "\n",
    "L'**orecchio** umano nelle sue condizioni ottimali **percepisce** suoni compresi tra **20** e **20.000 Hz**."
   ]
  },
  {
   "cell_type": "markdown",
   "id": "908547cd-b73e-4355-8dc1-934006161ed7",
   "metadata": {},
   "source": [
    "### Rappresentazioni <a id='rappresentafreq'></a> \n",
    "\n",
    "Possiamo specificare questo parametro in **tre diversi** tipi di **notazione simbolica**:\n",
    "\n",
    "1. **Simboli musicali** - determinano l'altezza in base alla **posizione grafica** in un contesto di **linguaggio codificato** (la scrittura musicale).\n",
    "   - **Pentagramma** - cinque **righi** che definiscono una **voce** o uno **strumento musicale**.\n",
    "     <center><img src=\"2_acustica/score//Pentagramma.png\" width=\"45%\"></center>\n",
    "   -  **Chiavi** - **tre** simboli che definiscono un'**altezza** di **riferimento**.\n",
    "     <center><img src=\"2_acustica/score//Chiavi.png\" width=\"42%\"></center>\n",
    "    - **Posizioni** - **spazi** o **righi**.\n",
    "     <center><img src=\"2_acustica/score//Posizioni.png\" width=\"50%\"></center>\n",
    "    - **Alterazioni** o **accidenti** - diesis, bemolle, bequadro, doppio diesis, doppio bemolle. Alterano di uno o due **semitoni**.\n",
    "     <center><img src=\"2_acustica/score//Alterazioni.png\" width=\"42%\"></center>\n",
    "    - **Tagli addizionali** - per le **altezze** che cadono al di **sopra** o al di **sotto** del **pentagramma**.\n",
    "     <center><img src=\"2_acustica/score//Tagli.png\" width=\"42%\"></center>"
   ]
  },
  {
   "cell_type": "markdown",
   "id": "e0082703-8dd2-40e1-b7e5-47d77de817c0",
   "metadata": {},
   "source": [
    " 2. **Simboli alfabetici** - determinano l'altezza come **nomi** di una **scala** (diatonica o cromatica) o un **modo**     Guido d'Arezzo - Inno a San Giovanni Battista (1028 ca.).\n",
    "\n",
    "    <center><img src=\"2_acustica/score//Nomi.png\" width=\"40%\"></center>\n",
    "    <center><img src=\"2_acustica/score//inno.png\" width=\"40%\"></center>"
   ]
  },
  {
   "cell_type": "markdown",
   "id": "8c36300b-2aeb-4357-8520-f3ae74c07d55",
   "metadata": {},
   "source": [
    "3. **Simboli numerici** - in questo caso possiamo fare un'ulteriore suddivisione in **quattro** diverse unità: \n",
    "\n",
    "    * **Gradi** - determinano l'altezza come posizioni in una **scala diatonica** o in un **modo**.\n",
    "      <center><img src=\"2_acustica/score//Gradi.png\" width=\"40%\"></center>\n",
    "    * **Rapporti intervallari** - determinano l'altezza di una **scala cormatica** come **distanza** da un'altezza di riferimento (**root note**) in genere definita con il **valore** 0.\n",
    "      <center><img src=\"2_acustica/score//Intervalli.png\" width=\"40%\"></center>\n",
    "    * **Rappresentazioni assolute** - determinano l'altezza di una attraverso **simboli** impiegabili facilmente in **linguaggi informatici**.\n",
    "   \n",
    "      1. Numerazione **MIDI**.\n",
    "      2. Numerazione a **Ottave** (Giapponese, Yamaha, Encore).\n",
    "      3. Numerazione a **Ottave** (Scientifica, MusicXML ed altre).\n",
    "      4. Numerazione di **Helmholtz** (utilizzata comunemente negli Stati Uniti).\n",
    "      5. Numerazione **Esadecimale**.\n",
    "    <center><img src=\"2_acustica/score/Altezze.png\" width=\"65%\"></center>\n",
    "\n",
    "    * **Frequenze** (Hertz) - determinano l'altezza come numero di **cicli per secondo** di un'**onda periodica o ciclica**.\n",
    "    <center><img src=\"2_acustica/score/Frequenze.png\" width=\"40%\"></center>"
   ]
  },
  {
   "cell_type": "markdown",
   "id": "9de8f77f-6a5a-4a57-a710-bb8fa9aacaa7",
   "metadata": {},
   "source": [
    "Nella seguente tabella i **rapporti** tra alcune **unità di misura** appena esposte.\n",
    "\n",
    "Nota       |MIDI|Rapporto              |Frequenza (Hz)|\t\n",
    "-----------|----|----------------------|--------------|\n",
    "Do         |\t60|\t$1:1$              | 261.6        |\t\n",
    "Do# o Reb  |\t61|\t$\\sqrt[12]{2}$     | 277.2        |\t\n",
    "Re         |\t62|\t$\\sqrt[12]{2^2}$   | 293.7        |\t\n",
    "Re# o Mib  |\t63|\t$\\sqrt[12]{2^3}$   | 311.1        |\t\n",
    "Mi         |\t64|\t$\\sqrt[12]{2^4}$   | 329.6        |\t\n",
    "Fa         |\t65|\t$\\sqrt[12]{2^5}$   | 349.2        |\t\n",
    "Fa# o Solb |\t66|\t$\\sqrt[12]{2^6}$   | 370.0        |\t\n",
    "Sol        |\t67|\t$\\sqrt[12]{2^7}$   | 390.0        |\t\n",
    "Sol# o Lab |\t68|\t$\\sqrt[12]{2^8}$   | 415.3        |\t\n",
    "La         |\t69|\t$\\sqrt[12]{2^9}$   | 440.0        |\t\n",
    "La# o Sib  |\t70|\t$\\sqrt[12]{2^{10}}$| 466.2        |\n",
    "Si         |\t71|\t$\\sqrt[12]{2^{11}}$| 493.9        |\t\n",
    "Do         |\t72|\t$2:1$              | 523.3        |"
   ]
  },
  {
   "cell_type": "code",
   "execution_count": 3,
   "id": "c2c7e2e7-e777-475a-8952-142ed75918cb",
   "metadata": {},
   "outputs": [],
   "source": [
    "n = [60,72,64,66,58] # MIDI note\n",
    "\n",
    "for i in n:\n",
    "    PNote(i, 0.5, 127)"
   ]
  },
  {
   "cell_type": "markdown",
   "id": "1db93283-0b70-456e-a55b-216dd7644407",
   "metadata": {},
   "source": [
    "## Dinamica o ampiezza <a id='amp'></a>\n",
    "\n",
    "Questo parametro in **termini musicali** è dato dal **rapporto** tra i **suoni** più **deboli** (pianissimissimo) e quelli più **forti** che caratterizzano la **dinamica** di un brano.\n",
    "\n",
    "<audio controls src='2_acustica/suoni/ampiezze.mp3'></audio>"
   ]
  },
  {
   "cell_type": "markdown",
   "id": "34f51dc5-aa7e-4c5a-b941-67ad2bcb7f78",
   "metadata": {},
   "source": [
    "### Intensità sonora <a id='intensita'></a> \n",
    "\n",
    "La **dinamica** di un suono in **fisica** si definisce con il termine **ampiezza** in quanto descrive l’ampiezza delle **variazioni** dell’**onda** sonora rispetto allo **stato di quiete** e fornisce una **misura dell’energia** da essa trasportata.\n",
    "\n",
    "Se prendiamo in considerazione l'aspetto fisico **acustico** e **non** la **percezione** umana questo parametro è **indipendente** dalla frequenza e per **convenzione** rappresentato da valori **compresi** tra **-1.0** e **+1.0**.\n",
    "\n",
    "<center><img src=\"2_acustica/score/ampiezza.png\" width=\"85%\"></center>"
   ]
  },
  {
   "cell_type": "markdown",
   "id": "2bef55da-818f-4542-bb6c-54e7d9c1baf0",
   "metadata": {},
   "source": [
    "Anche per quanto riguarda la **misurazione** dell'**ampiezza** di un **suono** possiamo farla attraverso unità di misura **assolute** o **relative**.\n",
    "\n",
    "In **ambito musicale** è importante **misurare** non solo le ampiezze ma anche i **rapporti** che intercorrono tra suoni con **intensità differenti**. "
   ]
  },
  {
   "cell_type": "markdown",
   "id": "d3cd5fab-654c-4f6b-9d8b-798cb8ab6403",
   "metadata": {},
   "source": [
    "### Rappresentazioni <a id='rappresentaamp'></a> \n",
    "\n",
    "Possiamo specificare questo parametro in **due diversi** tipi di **notazione simbolica**:\n",
    "\n",
    "1. **Simboli musicali** -  I valori sono quasi sempre **relativi** al **contesto** musicale, ovvero un \"forte\" in una **sonata** per violino **barocca** non ha la stessa **intensità** di un \"forte\" dato agli ottoni in un **poema sinfonico** di R.Strauss.\n",
    "\n",
    "   A **differenza** delle **altezze** dove esiste una **corrispondenza** precisa **tra** la rappresentazione simbolica in **notazione musicale** e la misurazione **fisica**, le **dinamiche** musicali sono caratterizzate da una rilevante **soggettività** che va ben oltre alla semplice **misura** fisica delle **ampiezze** dei suoni.\n",
    "\n",
    "   <center><img src=\"2_acustica/score/Dinamiche.png\" width=\"32%\"></center>\n",
    "\n",
    "2. **Valori numerici** relativi a diverse **unità di misura**:\n",
    "\n",
    "    * **Lineare** - Unità di misura **assoluta** espressa in valori **decimali** compresi tra **0.0** e **1.0**. La più **lontana** dalla **percezione umana** riguardo i cambiamenti di intensità dei suoni. \n",
    "  \n",
    "    * **Key Velocity** (MIDI) - Unità di misura **assoluta** espressa in valori **interi** compresi tra **0** e **127**. La meno **precisa** a causa del **limitato** numero di **livelli** dovuto alla disponibilità di **soli 7 bit** del protocollo MIDI. \n",
    "  \n",
    "    * **Quartica** - Unità di misura **assoluta** espressa in valori **decimali** compresi tra **0.0** e **1.0**. La più **vicina** alla **percezione umana** riguardo i cambiamenti di intensità dei suoni.    $$a^4$$\n",
    "  \n",
    "    * **Decibels** (dB) - Unità di misura **relativa** espressa in valori **decimali** compresi tra **0.0** e **-inf** (o +inf a seconda del tipo di misurazione). Misura la **differenza** di **intensità** tra l'**ampiezza lineare** di un suono rispetto a un'**ampiezza di riferimento**.  $$20*\\log_{10}(\\frac{a}{a0})$$\n",
    "    Alcuni **rapporti** tra queste **unità di misura**.\n",
    "\n",
    "Segno |Vel | lin | quart  | dB  |\t\n",
    "------|----|-----|--------|-----|\n",
    "pppp  |\t 12| 0.1 | 0.0001 | -20 |\t\n",
    "ppp   |\t 24| 0.2 | 0.0016 | -14 |\t\n",
    "pp    |\t 44| 0.3 | 0.0081 | -10 |\t\n",
    "p     |\t 54| 0.4 | 0.0256 |  -8 |\t\n",
    "mp    |\t 64| 0.5 | 0.0625 |  -6 |\t\n",
    "mf    |\t 74| 0.6 | 0.1296 |  -4 |\t\n",
    "f     |\t 84| 0.7 | 0.2401 |  -3 |\t\n",
    "ff    |  94| 0.8 | 0.4096 |  -2 |\t\n",
    "fff   |\t114| 0.9 | 0.6561 |  -1 |\t\n",
    "ffff  |\t127| 1.0 | 1.0000 |   0 |\t"
   ]
  },
  {
   "cell_type": "code",
   "execution_count": 5,
   "id": "8612c9e4-f8f7-44ac-be77-6cca3c6ce137",
   "metadata": {},
   "outputs": [],
   "source": [
    "a = [20,127,24,100,58,60,127,10,60,120,30] # MIDI velocity\n",
    "\n",
    "for i in a:\n",
    "    PNote(92, 0.5, i)"
   ]
  },
  {
   "cell_type": "markdown",
   "id": "aa1d7eb4-0917-4542-9464-c8e18f56828c",
   "metadata": {},
   "source": [
    "## Strumenti o timbro<a id='timbro'></a> \n",
    "\n",
    "Il timbro è quella particolare **qualità** del suono che permette di **distinguere** due **suoni** con uguale ampiezza e altezza e consente all'ascoltatore di **identificare** la **fonte sonora**, rendendola **distinguibile** da ogni altra.\n",
    "\n",
    "<audio controls src='2_acustica/suoni/timbro.mp3'></audio>"
   ]
  },
  {
   "cell_type": "markdown",
   "id": "7c6713f5-c850-4caf-b048-c1e242a5e655",
   "metadata": {},
   "source": [
    "### Spettri sonori <a id='spettri'></a> \n",
    "\n",
    "Il timbro dei **suoni naturali** è **influenzato** da moltissimi **parametri** come le **proprietà fisiche** della **sorgente sonora** e dal modo in cui è **messa in vibrazione**. \n",
    "\n",
    "\n",
    "Tutti questi parametri **concorrono** a formare una **rappresentazione fisica** del timbro di quel suono ovvero la sua **forma d'onda**.\n",
    "\n",
    "\n",
    "Nelle **celle** sottostanti sono illustrate **tre** diverse forme d'onda:\n",
    "\n",
    "* suono **puro** - è formato da **una** sola onda sinusoidale con propria **frequenza**, **ampiezza** e **fase**. Non esiste in natura e può solo essere **sintetizzato**.\n",
    "    <center><img src=\"2_acustica/score/puro.png\" width=\"100%\"></center>\n",
    "<audio controls src='2_acustica/suoni/puro.mp3'></audio>"
   ]
  },
  {
   "cell_type": "markdown",
   "id": "4a6118df-e127-446d-a2f1-bf71f5ce2d87",
   "metadata": {},
   "source": [
    "* suono **complesso periodico** - è caratterizzato dalla presenza di **più sinusoidi** (**suoni parziali**) sovrapposte, ognuna con una **propria frequenza**, una **propria ampiezza** e una **propria fase** che hanno un qualche tipo di **relazione** tra loro.\n",
    "      <center><img src=\"2_acustica/score/periodico.png\" width=\"100%\"></center>\n",
    "      <audio controls src='2_acustica/suoni/periodico.mp3'></audio>"
   ]
  },
  {
   "cell_type": "markdown",
   "id": "0cf9941a-1ce0-4587-8b97-9e3c709abf8e",
   "metadata": {},
   "source": [
    "* suono **complesso aperiodico** (rumore) - come il precedente ma i parametri **non** sono in **relazione** tra loro.\n",
    "        <center><img src=\"2_acustica/score/noise.png\" width=\"100%\"></center>\n",
    "      <audio controls src='2_acustica/suoni/noise.mp3'></audio>"
   ]
  },
  {
   "cell_type": "markdown",
   "id": "ad7fad96-f2c4-4390-8818-16055ff39eb4",
   "metadata": {},
   "source": [
    "### Suoni parziali <a id='parziali'></a> \n",
    "\n",
    "I suoni presenti in natura sono caratterizzati da **forme d'onda** differenti tra loro e dunque da **suoni complessi**. \n",
    "\n",
    "\n",
    "Un suono complesso è il risultato della **sovrapposizione** di più suoni puri secondo il **teorema** enunciato dal fisico francese **J.Fourier** nei primi anni dell'800:\n",
    "\n",
    "_Qualunque **segnale periodico** può essere **scomposto** nella **somma** di un eventuale termine costante e **di segni sinusoidali**, dei quali il **primo**, avente lo **stesso periodo** e quindi la stessa frequenza del segnale considerato, si chiama **prima armonica** o **fondamentale**, e **gli altri**, aventi periodi sottomultipli e quindi frequenze multiple, si chiamano **armoniche superiori**_\n",
    "\n",
    "<center><img src=\"2_acustica/score/fourier.png\" width=\"100%\"></center>\n",
    "\n",
    "Rappresentazione attraverso **simboli musicali**:\n",
    "\n",
    "<center><img src=\"2_acustica/score/Fourier_mus.png\" width=\"15%\"></center>"
   ]
  },
  {
   "cell_type": "markdown",
   "id": "8f0c419f-daeb-440c-8519-c5d202f217b6",
   "metadata": {},
   "source": [
    "Ogni suono puro che concorre a formare uno spettro complesso può essere chiamato suono **armonico** o **parziale**. \n",
    "\n",
    "La **differenza** terminologica tra queste due definizioni è sottile e implica la conoscenza del **tipo di spettro** a cui si riferisce. \n",
    "\n",
    "Gli **spettri** sonori possono essere **suddivisi** in **due** grandi **famiglie**:\n",
    "\n",
    "* **Spettri armonici**. Le frequenze dei parziali seguono rapporti formati da **numeri interi** e la cui **forma d'onda** può essere solamente **periodica**.:\n",
    "\n",
    "  - 1:1 - Fondamentale\n",
    "  - 1:2 - Primo armonico\n",
    "  - 1:5 - Quarto armonico\n",
    "  - 1:8 - Settimo armonico\n",
    "  - ...\n",
    "  - 1:n - Ennesimo armonico\n",
    "  <center><img src=\"2_acustica/score/Serie_armonica.png\" width=\"70%\"></center>\n",
    "  <audio controls src='2_acustica/suoni/armonico.mp3'></audio>"
   ]
  },
  {
   "cell_type": "markdown",
   "id": "d1786ed6-75cc-4c84-b59e-be9321d7c27e",
   "metadata": {},
   "source": [
    "* **Spettri inarmonici**. Le frequenze dei parziali **non** seguono **alcun rapporto** particolare.\n",
    "  <center><img src=\"2_acustica/score/inarmonico.png\" width=\"13%\"></center>\n",
    "    <audio controls src='2_acustica/suoni/inarmonico.mp3'></audio>"
   ]
  },
  {
   "cell_type": "markdown",
   "id": "a15a4972-dad2-4d99-9f16-c931a704eddc",
   "metadata": {},
   "source": [
    "Possiamo affermare che **tutti i suoni** possibili sono formati da **spettri** compresi tra:\n",
    "\n",
    "* suono puro (la singola **sinusoide** - periodico) e\n",
    "* suono più complesso (il **rumore bianco** - aperiodico) \n",
    "\n",
    "le cui caratteristiche oscillano tra suoni **inarmonici**, suoni **quasi armonici** e suoni **armonici**.\n",
    "\n",
    "  <center><img src=\"2_acustica/score/tenuto.png\" width=\"100%\"></center>\n",
    "  <audio controls src='2_acustica/suoni/tenuto.mp3'></audio>"
   ]
  },
  {
   "cell_type": "markdown",
   "id": "7d70534e-4794-4588-b365-9a611fa92b75",
   "metadata": {},
   "source": [
    "## Tempo e pulsazioni<a id='tempo'></a>\n",
    "\n",
    "La **misurazione** del tempo è stata la **prima scienza esatta** dell’antichità. \n",
    "\n",
    "Le uniche **certezze** provenivano dai **fenomeni astronomici**.\n",
    "\n",
    "I **suoni** (e di conseguenza la musica) **esistono** solo nel **tempo**, in un tempo **non reversibile** se non nella **memoria**.\n",
    "\n",
    "Per questo motivo dobbiamo **definire** alcuni **parametri** atti a **misurare il tempo**, o meglio misurare una **sequenza** di **eventi** o **azioni** che si svolgono nel tempo per poterli **organizzare** (comporre) in **ritmo** e tradurli in **linguaggi simbolici** interpretabili da **esecutori umani** o da **software**."
   ]
  },
  {
   "cell_type": "markdown",
   "id": "a3cc6b75-ddfb-45ff-895d-62f5dfcd4d3f",
   "metadata": {},
   "source": [
    "### Onsets, delta e durate <a id='onsets'></a> \n",
    "\n",
    "Possiamo specificare qualsiasi tipo di **evento sonoro** nel tempo attraverso **combinazioni** tra i seguenti **parametri**:\n",
    "\n",
    "* **Onsets** - tempi assoluti **incrementali** a partire da un **tempo 0** iniziale.\n",
    "   <center><img src=\"2_acustica/score/Onsets.png\" width=\"40%\"></center>\n",
    "\n",
    "* **Tempi delta** - la misurazione del **tempo** che intercorre tra **due eventi consecutivi**.\n",
    "  <center><img src=\"2_acustica/score/DeltaT.png\" width=\"40%\"></center>\n",
    "\n",
    "* **Durate** - la misurazione della durata di uno o più eventi.\n",
    "    <center><img src=\"2_acustica/score/Durate.png\" width=\"65%\"></center>\n",
    "\n",
    "A seconda delle **situazioni** e degli **ambienti software** possiamo impiegare:\n",
    "\n",
    "* **tempi delta** e **durate**\n",
    "* **onset** e **durate** \n",
    "\n",
    "In entrmbe i casi se:\n",
    "\n",
    "* **tempo delta** = **durata** - legato\n",
    "* **tempo delta** < **durata** - pause tra gli eventi\n",
    "* **tempo delta** > **durata** - sovrapposizione polifonica\n",
    "\n",
    "<center><img src=\"2_acustica/score/pianoroll.png\" width=\"90%\"></center>"
   ]
  },
  {
   "cell_type": "markdown",
   "id": "8d5d8b37-ecc0-45d5-8619-860229f560ae",
   "metadata": {},
   "source": [
    "### Unità di misura <a id='rappresentatempo'></a> \n",
    "\n",
    "Possiamo **specificare** ognuno di questi **parametri** attraverso **due unità di misura** differenti.\n",
    "\n",
    "* **Tempo assoluto** in secondi o millisecondi - tipica rappresentazione nei **linguaggi informatici**\n",
    " \n",
    "<pre>onsets = (0.0,  0.25, 0.5, 1)   # secondi\n",
    "durate = (0.25, 0.25, 0.5, 2)\n",
    "delta  = (  0.25, 0.25, 0.5 )\n",
    "    \n",
    "onsets = (0.0,  250, 500, 1000) # millisecondi\n",
    "durate = (250,  250, 500, 2000)\n",
    "delta  = (  250,  250,  500   )</pre>\n",
    "\n",
    "* **Tempo relativo** in battiti per minuto o tempo metronomico (**bpm**) - **suddivisioni** di una pulsazione regolare (**tactus** o **beat**):\n",
    "  \n",
    "  Possiamo **rappresentare** i valori in **quattro** modi diversi.\n",
    "  * **Notazione simbolica** - sistema di **simboli** (grafici, alfabetici o altro).\n",
    "    \n",
    "    <pre>Simboli numerici       16 16  8  2      4       \n",
    "    Simboli alfabetici      s  s  e  h      q\n",
    "    Simboli musicali           \n",
    "                         <img src=\"2_acustica/score/Ritmo.png\" width=\"20%\">\n",
    "    </pre>    \n",
    "  * **Notazione frazionale** - numero di **suddivisioni** del **beat**.\n",
    "    <pre>                     1/4 1/4 1/2 2/1   1/1 (beat = quarto = 1)\n",
    "    \n",
    "    </pre>\n",
    "  * **Fattore di moltiplicazione** dell'unità - **valore** numerico corrispondente al **risultato** della notazione frazionale.\n",
    "    <pre>                    0.25 0.25 0.5 2     1  (beat = quarto = 1)\n",
    "    \n",
    "    </pre>\n",
    "  * **Notazione proporzionale** - ratio (**proporzione**) tra suddivisioni del beat.\n",
    "    <pre>                    1:4  1:4  2:4 8:4   4:4 (quantità : n_suddivisioni_beat)\n",
    "    \n",
    "    </pre>"
   ]
  },
  {
   "cell_type": "markdown",
   "id": "980557b5-be48-4006-b5fa-dc084e5d2150",
   "metadata": {},
   "source": [
    "### Suddivisioni e rappresentazioni <a id='rappresentamusica'></a> \n",
    "\n",
    "Le **suddivisioni** del **tempo musicale** sono definite attraverso i **simboli** illustrati nel seguente schema:\n",
    "\n",
    "  <center><img src=\"2_acustica/score/valori.png\" width=\"90%\"></center>"
   ]
  },
  {
   "cell_type": "markdown",
   "id": "c44482ca-c236-4cc2-9a54-41a875b3cd8b",
   "metadata": {},
   "source": [
    "Possono assumere la forma di **gruppi regolari** dove le suddivisioni sono $1/2^{n}$ come quelle illustrate nello **schema precedente** \n",
    "\n",
    "<center><img src=\"2_acustica/score/Regolari_1.png\" width=\"45%\"></center>\n",
    "<center><img src=\"2_acustica/score/Regolari_2.png\" width=\"45%\"></center>"
   ]
  },
  {
   "cell_type": "code",
   "execution_count": 7,
   "id": "ccfa128e-9f66-45d4-8c5f-573142ae7c62",
   "metadata": {},
   "outputs": [],
   "source": [
    "a = [1,4,2,8,2,1] # Suddivisioni\n",
    "\n",
    "for i in a:\n",
    "    for n in range(i):\n",
    "        PNote(60,1/i,127)"
   ]
  },
  {
   "cell_type": "markdown",
   "id": "ccead88a-680e-4073-ad51-afa67f4533f9",
   "metadata": {},
   "source": [
    "Possono assumere la forma di **gruppi irregolari** caratterizzati dalle suddivisioni $1/3^{n}$ $1/5^{n}$ $1/7^{n}$ $1/11^{n}$ $1/13^{n}$, etc\n",
    "\n",
    "<center><img src=\"2_acustica/score/Irregolari.png\" width=\"60%\"></center>"
   ]
  },
  {
   "cell_type": "code",
   "execution_count": 9,
   "id": "9428faca-af65-4432-9bba-6e76a9d61b49",
   "metadata": {},
   "outputs": [],
   "source": [
    "a = [3,5,3,7,1,5] # Suddivisioni\n",
    "\n",
    "for i in a:\n",
    "    for n in range(i):\n",
    "        PNote(60,1/i,127)"
   ]
  },
  {
   "cell_type": "markdown",
   "id": "0d0693f8-0590-4cda-8f81-6db49ae2e74b",
   "metadata": {},
   "source": [
    "Le due categorie si possono ovviamente **mescolare** in **gruppi misti**.\n",
    "<center><img src=\"2_acustica/score/Misti.png\" width=\"52%\"></center>"
   ]
  },
  {
   "cell_type": "code",
   "execution_count": 11,
   "id": "27914830-316b-4dad-9ae4-f2afa358451f",
   "metadata": {},
   "outputs": [],
   "source": [
    "a = [1,2,3,2,5,3,4,1] # Suddivisioni\n",
    "\n",
    "for i in a:\n",
    "    for n in range(i):\n",
    "        PNote(60,1/i,127)"
   ]
  },
  {
   "cell_type": "markdown",
   "id": "04fd8751-d455-4146-b1b5-bbb96ffeeae9",
   "metadata": {},
   "source": [
    "Simboli per le **pause**:\n",
    "<center><img src=\"2_acustica/score/Pause.png\" width=\"53%\"></center>\n",
    "<center><img src=\"2_acustica/score/Pause_1.png\" width=\"53%\"></center>"
   ]
  },
  {
   "cell_type": "code",
   "execution_count": 13,
   "id": "2aabe82f-fd7d-44a3-a616-46a4ec9d4bf4",
   "metadata": {},
   "outputs": [],
   "source": [
    "a = [60, 0,  64,  67,   0,  72, 0, 76]  # Pitch 0 = pausa\n",
    "d = [1 , 1, 0.5, 0.5, 0.5, 1.5, 1,  3] \n",
    "\n",
    "for i in range(len(a)):\n",
    "    PNote(a[i],d[i],127)"
   ]
  },
  {
   "cell_type": "markdown",
   "id": "192887e2-f7cf-467a-a145-f3b54014e4aa",
   "metadata": {},
   "source": [
    "Nel **frammento melodico** precedente notiamo la presenza di un **punto di valore**.\n",
    "\n",
    "Quando è presente **raddoppia** della **metà** la **durata**.\n",
    "\n",
    "<center><img src=\"2_acustica/score/Punto.png\" width=\"53%\"></center>"
   ]
  },
  {
   "cell_type": "code",
   "execution_count": 15,
   "id": "6f33b50c-2e09-41a7-9750-bcef8dd54efd",
   "metadata": {},
   "outputs": [],
   "source": [
    "a = [60,   64,  62,  65,  64,  67,  65,  67,  69,  71,  72,  67]  # Pitch 0 = pausa\n",
    "d = [3/4, 1/4, 3/2, 1/2, 7/8, 1/8, 1/8, 1/8, 1/8, 1/8, 3/2,   2] \n",
    "\n",
    "for i in range(len(a)):\n",
    "    PNote(a[i],d[i],127)"
   ]
  },
  {
   "cell_type": "markdown",
   "id": "746daaae-0a14-4495-aa21-7b747d18d8ff",
   "metadata": {},
   "source": [
    "Possiamo **allungare** la durata di una nota anche attraverso le **legature di valore**.\n",
    "\n",
    "<center><img src=\"2_acustica/score/Legature.png\" width=\"53%\"></center>"
   ]
  },
  {
   "cell_type": "markdown",
   "id": "61e5f531-0501-4963-970a-0cc7c717f095",
   "metadata": {},
   "source": [
    "### Tempi e misure <a id='tempi'></a> \n",
    "\n",
    "In **matematica** dividiamo **decine** centinaia, migliaia etc. con un **punto** per renderli più **leggibili** - $1.000.000$ vs $1000000$.\n",
    "\n",
    "In **informatica** vale lo stesso con il concetto di **bit** e **byte** (1 byte = 8 bit) o di **parola binaria**.\n",
    "\n",
    "In **musica** i **valori di tempo** appena enunciati sono **inseriti** in **griglie temporali** che possiamo definire **timeline** per una **DAW** oppure **battute** o **misure** in una **partitura**.\n",
    "\n",
    "<center><img src=\"2_acustica/score/Timeline.png\" width=\"100%\"></center>\n",
    "<center><img src=\"2_acustica/score/Misure.png\" width=\"40%\"></center>\n",
    "\n",
    "Notiamo l'impiego sia di **tempi assoluti** che di **tempi relativi**.\n",
    "\n",
    "La notazione si avvale di **indicazioni di tempo** sotto forma di **frazione** (3/4, 4/4, 6/8, et.) che indicano il **numero** di **unità** in una **battuta** o **misura**.\n",
    "\n",
    "Le misure sono **separate** attraverso **linee verticali** (barline o stanghette di battuta).\n",
    "\n",
    "I **tempi** (indicazioni di tempo) possono essere **semplici**:\n",
    "\n",
    "<center><img src=\"2_acustica/score/Tempi_semplici.png\" width=\"53%\"></center>"
   ]
  },
  {
   "cell_type": "code",
   "execution_count": 17,
   "id": "123548a5-a964-44e3-a647-98132248e556",
   "metadata": {},
   "outputs": [],
   "source": [
    "a = [60, 64,  62,  67,  69,  67, 65,  64, 65,  67, 62, 64, 60] \n",
    "d = [1 , 1,  0.5, 0.5,   1,   2,  1, 1/3, 1/3, 1/3, 2,  1,  4]  \n",
    "\n",
    "for i in range(len(a)):\n",
    "    PNote(a[i],d[i],127)"
   ]
  },
  {
   "cell_type": "markdown",
   "id": "7f7f946e-7bd4-4442-9f52-8e9d6f2ec9d5",
   "metadata": {},
   "source": [
    "Oppure **composti**.\n",
    "\n",
    "<center><img src=\"2_acustica/score/Tempi_composti.png\" width=\"53%\"></center>"
   ]
  },
  {
   "cell_type": "code",
   "execution_count": 19,
   "id": "1affe776-bcab-4207-939c-bbede78a01b6",
   "metadata": {},
   "outputs": [],
   "source": [
    "a = [60,   64,   62,  67,  69,  67,  65,  64, 65,   67,  62,  64, 60, 67] \n",
    "d = [2/3, 1/3,  1/3, 1/3, 1/3, 2/3, 1/3, 1/3, 1/3, 1/3, 1/2, 1/2,  1,  1]  \n",
    "\n",
    "for i in range(len(a)):\n",
    "    PNote(a[i],d[i],127)"
   ]
  },
  {
   "cell_type": "markdown",
   "id": "fbeab6f1-0bdd-410e-9887-033bbe397fc5",
   "metadata": {},
   "source": [
    "## Terminologia <a id='terminologia'></a>\n",
    "\n",
    "* **Suono** - un fenomeno fisico\n",
    "* **Onda sonora** - **energia meccanica** che si propaga nello spazio e nel tempo.\n",
    "* **Sorgente sonora** - corpo elastico che produce un suono\n",
    "* **Ricevente** - Orecchio o microfono.\n",
    "* **Onde periodiche** - fenomeno oscillatorio che si ripete uguale nel tempo.\n",
    "* **Parametri del suono**\n",
    "  - **altezza o frequenza** - sensazione di gravità o acutezza.\n",
    "  - **dinamica o ampiezza** - sensazione di intensità sonora.\n",
    "  - **strumenti timbro** - caratteristiche morfologiche di un suono.\n",
    "    - **spettro sonoro** - definisce il timbro nel dominio delle frequenze.\n",
    "    - **suoni parziali** o armonici - elementi di uno spettro sonoro.\n",
    "    - **forma d'onda** - definisce il timbro nel dominio del tempo.\n",
    "* **Rappresentazioni simboliche musicali**\n",
    "  - **pentagramma** - righi musicali che definiscono una voce.\n",
    "  - **chiavi** - definiscono un'altezza di riferimento sul pentagramma.\n",
    "  - **alterazioni** - diesis, bemolli, doppi diesis e doppibemolli.\n",
    "  - **tagli addizionali** - usati per le altezze fuori dal pentagramma.\n",
    "* **Onset** - punto nel tempo dove **comincia** un evento sonoro riferito a un **tempo 0**.\n",
    "* **Tempo assoluto** - misurazione in secondi o millisecondi.\n",
    "* **Tempo relativo** - misurazione in **beat**.\n",
    "* **BPM** o **MM**- tempo metronomico (beat per minuto).\n",
    "* **Gruppi ritmici regolari** - suddivisioni del beat per $1/2^n$.\n",
    "* **Gruppi ritmici irregolari** - le altre suddivisioni del beat terzina, quintina, etc.\n",
    "* **Punto di valore** - raddoppia la durata della metà.\n",
    "* **Legatura di valore** - unisce due o più durate.\n",
    "* **Misura** o battuta - contenitore di beat.\n",
    "* **Tempi semplici** - 2/4, 3/4, 4/4 etc.\n",
    "* **Tempi composti** - 6/8, 9/8, 12/8 etc."
   ]
  },
  {
   "cell_type": "markdown",
   "id": "54ce1162-b6ad-4f46-877f-396e0c7dea25",
   "metadata": {},
   "source": [
    "## Domande sospese <a id='domande'></a>\n",
    "\n",
    "I **simboli** impiegati nella notazione musicale sono prima **scritti** (an-notati) da un **compositore** e successivamente **letti** e **interpretati** da un esecutore.\n",
    "* Se esistono, quali sono le **informazioni musicali** (parametri) che **non** possono essere **scritte** in una partitura?\n",
    "* Come puó un interprete **ricostruire** ció che non é notato?\n",
    "* E' sufficiente che l'**interprete** e-segua **fedelmente** la partitura per trasmettere il **pensiero musicale** originale del **compositore**?\n",
    "* Dei seguenti **frammenti musicali**:\n",
    "  \n",
    "  <audio controls src='2_acustica/suoni/stocki.mp3'></audio>\n",
    "  \n",
    "  <audio controls src='2_acustica/suoni/corea.mp3'></audio>\n",
    "\n",
    "  <audio controls src='2_acustica/suoni/cage.mp3'></audio>\n",
    "\n",
    "  <audio controls src='2_acustica/suoni/chopin.mp3'></audio>\n",
    "\n",
    "  - che tipologia di **pulsazioni** li caratterizza.\n",
    "  - descrivi il **tipo di tempo** di ognuno e rifletti su **come** lo descrivi.\n",
    "  - che tipo di **rapporti** ci sono tra i diversi **parametri del suono** in ogni brano.\n",
    "  - si percepiscono le **differenze** tra i tipi di **pianoforte** impiegato e se sí perché?"
   ]
  }
 ],
 "metadata": {
  "kernelspec": {
   "display_name": "Python 3 (ipykernel)",
   "language": "python",
   "name": "python3"
  },
  "language_info": {
   "codemirror_mode": {
    "name": "ipython",
    "version": 3
   },
   "file_extension": ".py",
   "mimetype": "text/x-python",
   "name": "python",
   "nbconvert_exporter": "python",
   "pygments_lexer": "ipython3",
   "version": "3.12.4"
  }
 },
 "nbformat": 4,
 "nbformat_minor": 5
}
