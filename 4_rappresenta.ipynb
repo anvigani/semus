{
 "cells": [
  {
   "cell_type": "markdown",
   "id": "4a3b3e30-2d4c-4f01-afe6-7c026f04ec7e",
   "metadata": {},
   "source": [
    "[Home](0_indice.html)"
   ]
  },
  {
   "cell_type": "markdown",
   "id": "3f4989c8",
   "metadata": {},
   "source": [
    "# Rappresentazioni del suono e della musica "
   ]
  },
  {
   "cell_type": "markdown",
   "id": "25f37897",
   "metadata": {},
   "source": [
    "* [Introduzione](#intro)\n",
    "* [Rappresentazioni simboliche musicali](#musinfo)\n",
    "* [Rappresentazioni del suono](#fisiche)\n",
    "* [Rappresentazioni elettroacustiche e informatiche](#procedure)\n",
    "* [Terminologia](#terminologia)\n",
    "* [Domande sospese](#domande) "
   ]
  },
  {
   "cell_type": "markdown",
   "id": "cd098f5e",
   "metadata": {},
   "source": [
    "## Introduzione<a id='intro'></a> \n",
    "\n",
    "_[...] Così come la **scrittura** ha permesso di **rappresentare** e di **tramandare** stabilmente la **storia** e la **cultura** umana attraverso i secoli, anche nel campo musicale il **sistema notazionale** ha permesso alla **musica** stessa di fissare e **tramandare** le sue **tappe evolutive** contribuendo in modo fortemente sinergico al suo continuo processo di crescita. Nonostante l’incessante affinamento delle tecniche notazionali, la rappresentazione della musica **non** è mai stata **in grado** di trasferire in modo **preciso** tutta l’eventuale complessità sottesa nell’**idea iniziale**: non a caso l’**interpretazione** diventa quel valore aggiunto che può rendere più o meno compiuta, differenziata e differenziabile un’**opera musicale**.[...]_\n",
    "\n",
    "E.Giordani\n",
    "\n",
    "Il **succedersi di suoni** nel tempo può essere rappresentato in **diversi modi**, a seconda delle ragioni o **necessità** che stanno alla base del **tipo** di rappresentazione stessa. "
   ]
  },
  {
   "cell_type": "markdown",
   "id": "61da0dee",
   "metadata": {},
   "source": [
    "## Rappresentazioni simboliche musicali<a id='musinfo'></a> \n",
    "\n",
    "Per sopperire inizialmente ad una **necessità mnemotecnica**, la musica nella **tradizione occidentale** è stata tramandata utilizzando una notazione simbolica, la **partitura** musicale. \n",
    "\n",
    "\n",
    "Questo tipo di notazione possiede una duplice valenza:"
   ]
  },
  {
   "cell_type": "markdown",
   "id": "cca9adcd",
   "metadata": {},
   "source": [
    "* **rappresentare** attraverso diversi simboli i **parametri** del suono come **altezza**, **durata**, **intensità**, etc.\n",
    "  \n",
    "  <center><img src=\"4_rappresenta/partitura_2.png\" width=\"50%\">"
   ]
  },
  {
   "cell_type": "markdown",
   "id": "362e1d7e",
   "metadata": {},
   "source": [
    "* **rappresentare** i **gesti** e le **azioni** che il musicista deve effettuare sullo **strumento** necessari alla **riproduzione** dei suoni notati.\n",
    "\n",
    "    <center><img src=\"4_rappresenta/intavolatura.png\" width=\"50%\">"
   ]
  },
  {
   "cell_type": "markdown",
   "id": "3153594d",
   "metadata": {},
   "source": [
    "Può sembrare **non esserci** molta **differenza pratica** tra le due. \n",
    "\n",
    "In realtà **sono** idealmente **differenti**. \n",
    "\n",
    "* la **prima** infatti **permette** una sedimentazione e **stratificazione culturale** dei segni che può portare a un'**evoluzione del pensiero musicale**.\n",
    "\n",
    "  <center><img src=\"4_rappresenta/tropo.png\" width=\"60%\">\n",
    "\n",
    "*  la **seconda** ha una **funzione** strettamente **tecnica** che la colloca in un tempo reversibile e **destoricizzante**.\n",
    "\n",
    "I **simboli** utilizzati nel corso dei secoli **sono mutati** parallelamente al **modificarsi dei linguaggi musicali**, al sopraggiungere di **nuove esigenze espressive** e, non ultimo all'invenzione di **nuovi strumenti musicali**.\n",
    "\n",
    "Lo studio della notazione musicale si chiama [semiografia musicale](https://it.wikipedia.org/wiki/Storia_della_semiografia_musicale)."
   ]
  },
  {
   "cell_type": "markdown",
   "id": "1bebfedd",
   "metadata": {},
   "source": [
    "### Notazione neumatica (800 - 1200) \n",
    "\n",
    "Fase [premensurale](https://www.examenapium.it/meri/notazione1.html)\n",
    "\n",
    "* adiastematica\n",
    "* neumatica in campo aperto\n",
    "* alfabetica\n",
    "* quadrata neografica\n",
    "* monofonia vocale\n",
    "\n",
    "<center><video width=\"50%\" controls src=\"4_rappresenta/gregoria.mp4\"></video></center>"
   ]
  },
  {
   "cell_type": "markdown",
   "id": "9e1622b9",
   "metadata": {},
   "source": [
    "### Notazione mensurale (1200 - 1600) \n",
    "\n",
    "Fase [mensurale](https://www.examenapium.it/meri/notazione2.html)\n",
    "\n",
    "* quadrata\n",
    "* bianca\n",
    "* polifonia\n",
    "* musica strumentale\n",
    "\n",
    "<center><video width=\"50%\" controls src=\"4_rappresenta/mensura.mp4\"></video></center>"
   ]
  },
  {
   "cell_type": "markdown",
   "id": "4239f466",
   "metadata": {},
   "source": [
    "### Notazione barocca (1600 - 1700) \n",
    "\n",
    "* notazione moderna\n",
    "* dal contrappunto all'armonia\n",
    "* pratica strumentale e basso continuo (cifrato)\n",
    "\n",
    "<center><video width=\"50%\" controls src=\"4_rappresenta/vivaldi.mp4\"></video></center>"
   ]
  },
  {
   "cell_type": "markdown",
   "id": "2266ca2c",
   "metadata": {},
   "source": [
    "### Notazione Classica (1700 - 1800)\n",
    "\n",
    "* tonalità\n",
    "* partiture e parti\n",
    "* segni dinamici\n",
    "* legature di espressione\n",
    "\n",
    "<center><video width=\"50%\" controls src=\"4_rappresenta/mozart.mp4\"></video></center>"
   ]
  },
  {
   "cell_type": "markdown",
   "id": "1428cfb1",
   "metadata": {},
   "source": [
    "### Notazione Romantica (1800) \n",
    "\n",
    "* aumento degli organici strumentali\n",
    "* simboli di partitura\n",
    "* orchestrazione e timbro\n",
    "* graduale dissoluzione della tonalità\n",
    "* nuovi segni per tecniche strumentali\n",
    "\n",
    "<center><video width=\"50%\" controls src=\"4_rappresenta/brahms.mp4\"></video></center>"
   ]
  },
  {
   "cell_type": "markdown",
   "id": "3f1f5e6e",
   "metadata": {},
   "source": [
    "### Notazione nel primo '900 \n",
    "\n",
    "* atonalità\n",
    "* neoclassicismo\n",
    "* dodecafonia\n",
    "* nuovi segni per tecniche strumentali e vocali\n",
    "* maggiore precisione di scrittura delle intenzioni compositive\n",
    "\n",
    "<center><video width=\"50%\" controls src=\"4_rappresenta/sho.mp4\"></video></center>"
   ]
  },
  {
   "cell_type": "markdown",
   "id": "98353344",
   "metadata": {},
   "source": [
    "### Notazione nel dopoguerra \n",
    "\n",
    "* iperstrutturalismo\n",
    "* alea\n",
    "* decostruttivismo\n",
    "* dissoluzione dei segni tradizionali\n",
    "* grafismo come pensiero musicale\n",
    "* emancipazione del segno dal suono\n",
    "\n",
    "<center><video width=\"50%\" controls src=\"4_rappresenta/boulez.mp4\"></video></center>"
   ]
  },
  {
   "cell_type": "markdown",
   "id": "93a191e8",
   "metadata": {},
   "source": [
    "### Partiture grafiche\n",
    "\n",
    "* improvvisazione\n",
    "* assenza di codice condiviso\n",
    "* linguaggio musicale tradizionale verso il silenzio\n",
    "* dissoluzione della dicotomia suono/rumore\n",
    "* soundscape\n",
    "* musica acusmatica\n",
    "\n",
    "<center><video width=\"50%\" controls src=\"4_rappresenta/cardew.mp4\"></video></center>"
   ]
  },
  {
   "cell_type": "markdown",
   "id": "0d481689",
   "metadata": {},
   "source": [
    "### Partiture d'ascolto e d'analisi\n",
    "\n",
    "* trascrizioni di suoni\n",
    "* rappresentazione dei parametri\n",
    "* notazioni per strumenti elettroacustici\n",
    "* codici informatici\n",
    "* live coding e live scoring\n",
    "\n",
    "<center><video width=\"50%\" controls src=\"4_rappresenta/ligeti.mp4\"></video></center>"
   ]
  },
  {
   "cell_type": "markdown",
   "id": "dac057ab",
   "metadata": {},
   "source": [
    "## Rappresentazioni del suono<a id='fisiche'></a>\n",
    "\n",
    "Possiamo anche rappresentare i **parametri fisico/acutici** del suono slegando questa **informazione** dalle regole appartenenti a un qualsiasi **linguaggio musicale** e dall'**azione** attraverso la quale è stato **generato**.\n",
    "\n",
    "Per quanto riguarda la **musica elettroacustica** e l'informatica musicale queste rappresentazioni sono fondamentali per **monitorare** la correttezza tecnica del lavoro quotidiano e possono diventare anche fonti di **ispirazione creativa** nella ricerca di nuovi suoni."
   ]
  },
  {
   "cell_type": "markdown",
   "id": "404c687d",
   "metadata": {},
   "source": [
    "### Oscillogramma\n",
    "\n",
    "Un [oscillogramma](https://www.treccani.it/vocabolario/oscillogramma/) è la rappresentazione di una **forma d'onda** nel **dominio del tempo**. \n",
    "\n",
    "<center><img src=\"4_rappresenta/oscillo_1.png\" width=\"20%\">\n",
    "\n",
    "Deriva dall'utilizzo di uno **strumento elettroacustico** (l'[oscilloscopio](https://it.wikipedia.org/wiki/Oscilloscopio)) utilizzato per riprodurre e misurare le forme d’onda di **segnali di tensione** su di uno **schermo** illuminato sul quale è rappresentato un **piano cartesiano**.\n",
    "\n",
    "<center><img src=\"4_rappresenta/oscillo_2.png\" width=\"30%\">\n",
    "\n",
    "Questo tipo di rappresentazione ci fornisce **informazioni** riguardo **ampiezza** e **frequenza** di un suono ma poco o nulla riguardo il timbro. "
   ]
  },
  {
   "cell_type": "markdown",
   "id": "03055044",
   "metadata": {},
   "source": [
    "### Spettrogramma, sonogramma e waterfall\n",
    "\n",
    "Per rappresentare le **componenti spettrali** e/o l'inviluppo spettrale (**dominio delle frequenze**) di un suono abbiamo **tre possibilità**:\n",
    "\n",
    "1. attraverso un tipo di [spettrogramma](https://fisicaondemusica.unimore.it/Spettrogramma.html) che **analizza** e **visualizza** il **contenuto spettrale** di un suono nel dominio della frequenza dove l'asse delle **ascisse** (x) corrisponde alle **frequenze** mentre l'asse delle **ordinate** (y) corrisponde alle **ampiezze**. \n",
    "\n",
    "   Può essere **istantaneo** ovvero la **fotografia** di un suono in un determinato momento oppure **dinamico** dove il grafico varia con il tempo e segue l'**inviluppo spettrale**.\n",
    "   \n",
    "   Le **frequenze** sono in **Hertz** mentre le ampiezze possono essere espresse in **ampiezza lineare** (tra 0 e 1), in **dB** (tra - inf e 0) oppure in **dBspl** (tra 0 e +inf).\n",
    "\n",
    "   <center><img src=\"4_rappresenta/spettrogr.png\" width=\"100%\">\n",
    "\n",
    "2. attraverso un altro tipo di spettrogramma chiamato anche **sonogramma** che visualizza il risultato dell'analisi realizzata da uno strumento chiamato **sonografo**.\n",
    "\n",
    "      <center><img src=\"4_rappresenta/sonografo.png\" width=\"30%\">\n",
    "          \n",
    "   Questa è la forma di rappresentazione del suono **più completa** dove sull'asse delle **ascisse** (x) è indicato il **tempo**, sull'asse delle **ordinate** (y) la **frequenza** mentre i **colori** (o la gamma di grigi) rappresentano le **ampiezze** dei parziali.\n",
    "\n",
    "      <center><img src=\"4_rappresenta/sonogramma.png\" width=\"100%\">\n",
    "\n",
    "   Se la rappresentazione si basa sui colori i **toni freddi** come il **blu scuro** rappresentano suoni di **bassa intensità** mentre quelli **gialli** le **alte intensità**. \n",
    "\n",
    "   Nella **scala di grigi** il discorso è simile, il **grigio chiaro** corrisonde alle **basse intensità** e quelli **scuri** per le **alte**. \n",
    "\n",
    "   Le frequenze e le intensità possono essere riportate sia in **scala lineare** che **logaritmica**.\n",
    "3. attraverso una variante pseudo **tridimensionale** del sonogramma chiamata **waterfall** dove viene utilizzato l’asse delle **ascisse** per le **frequenze**, quello delle **ordinate** per le **ampiezze** e quello generato dalla sequenza degli spettri, come asse **Z** nel **tempo**.\n",
    "\n",
    "   <center><img src=\"4_rappresenta/waterfall.png\" width=\"100%\">\n",
    "\n",
    "A questo [link](https://www.maurograziani.org/text_pages/analisi/l03/MG_Audio_analisi_03.html) possiamo trovare ultriori **approfondimenti** riguardo le **relazioni** che intercorrono tra le diverse **notazioni**."
   ]
  },
  {
   "cell_type": "markdown",
   "id": "e114fd36",
   "metadata": {},
   "source": [
    "## Rappresentazioni elettroacustiche e informatiche <a id='procedure'></a>\n",
    "\n",
    "Con l'ingresso dell'**elettronica** e dell'**informatica** in ambito musicale si sono rese possibili nuove **tipologie** di rappresentazioni. \n",
    "\n",
    "* **Algoritmi procedurali** necessari alla generazione o manipolazione del **materiale musicale** o **sonoro** (parametri di controllo).\n",
    "* **Algoritmi di sintesi** che descrivono le modalità di **generazione** o elaborazione dei **segnali audio** (o di controllo).\n",
    "* **Pianta e routing** ovvero una descrizione della disposizione di **strumenti**, **microfoni** e **altoparlanti** sulla scena e il **percorso** dei **segnali** nel **banco di mixaggio**.\n",
    "\n",
    "Possiamo rappresentare **graficamente** tutte queste informazioni attraverso schemi a blocchi (**block diagrams**).\n",
    "\n",
    "Quando in **ambito musicale** è previsto l’utilizzo di uno **strumento elettroacustico** o **informatico**, fornire questi **diagrammi** diventa fondamentale in quanto permettono la **riproducibilità** del brano **nel tempo** fornendo le istruzioni per realizzare l’**idea musicale originale** con qualsiasi tipo di software o dispositivo passato, presente o futuro alla stessa stregua delle **partiture musicali**. \n",
    "\n",
    "Fra dieci, venti o cento anni infatti ci saranno **nuove tecnologie** e saranno inventati **nuovi software** e **hardware**, e se dovessimo **legare** la possibilità di eseguire un brano a una **specifica tecnologia** o **software** potrebbe **non** essere più possibile **riprodurlo**.\n",
    "\n",
    "A questo [link](https://github.com/jgraph/drawio-desktop/releases/tag/v17.4.2) un **software** dedicato alla realizzazione di **diagrammi di flusso**."
   ]
  },
  {
   "cell_type": "markdown",
   "id": "57503ae6",
   "metadata": {},
   "source": [
    "### Diagrammi di flusso procedurali\n",
    "\n",
    "In **informatica** storicamente si utilizzano diagrammi di flusso (**flowchart**) che possiamo considerare **schemi a blocchi** più **specifici** atti a **rappresentare graficamente** il flusso di **controllo** di **algoritmi**, procedure e istruzioni operative.\n",
    "\n",
    "   <center><img src=\"4_rappresenta/flow_6.png\" width=\"50%\">\n",
    "\n",
    "**Musicalmente** possiamo impiegarli nell'ambito della **composizione algoritmica** sia nella **generazione** di partiture **strumentali** (anche senza parti elettroacustiche) sia nel **controllo** dei **parametri** di un qualche tipo di **sintesi** e/o **elaborazione** del **suono**. \n",
    "\n",
    "   <center><img src=\"4_rappresenta/flow_1.png\" width=\"100%\">\n",
    "\n",
    "Il linguaggio dei diagrammi di flusso è un possibile **formalismo** per la descrizione di **algoritmi** che descrive il **flusso** delle **operazioni** da eseguire per realizzare la trasformazione, definita nell’algoritmo, dai **dati iniziali** (input) ai **risultati** (output)."
   ]
  },
  {
   "cell_type": "markdown",
   "id": "ba92fcd1",
   "metadata": {},
   "source": [
    "### Algoritmi di sintesi\n",
    "\n",
    "Possiamo **rappresentare graficamente** anche il **percorso** che deve compiere un **segnale audio** per realizzare un **algoritmo di sintesi** o di elaborazione del suono rendendolo di fatto **realizzabile** attraverso qualsiasi tipo di **software** o **hardware** che lo consenta.\n",
    "\n",
    "   <center><img src=\"4_rappresenta/flow_sig1.png\" width=\"20%\">\n",
    "   <center><img src=\"4_rappresenta/nopie.png\" width=\"80%\">"
   ]
  },
  {
   "cell_type": "markdown",
   "id": "4024602d",
   "metadata": {},
   "source": [
    "### Disposizioni e routing\n",
    "\n",
    "Questo tipo di **diagrammi** serve a indicare tutte le **informazioni** necessarie alla corretta **messa in scena** di un lavoro e prevede sia la **collocazione** del **pubblico** e di eventuali **esecutori** che di tutta la **strumentazione elettroacustica** necessaria all'acquisizione, trasmissione e diffusione dei segnali audio. \n",
    "\n",
    "   <center><img src=\"4_rappresenta/flow_outs3.png\" width=\"100%\">"
   ]
  },
  {
   "cell_type": "markdown",
   "id": "67cd3d82-eb63-4d2c-8de9-1e1b77e67149",
   "metadata": {},
   "source": [
    "## Terminologia<a id=\"terminologia\"></a>\n",
    "\n",
    "* **Partitura** - testo sul quale è **notata** una **codifica** dei parametri sonori in una qualche **forma simbolica**.\n",
    "  - **musicale** - rappresenta i suoni.\n",
    "  - **grafica** - suggerisce all'interpete in diverso modo.\n",
    "  - **d'azione** - rappresenta le azioni da compiere per riprodurre i suoni.\n",
    "  - **d'ascolto** - non serve per realizzare musica ma per seguirla.\n",
    "  - **d'analisi** - ausilio grafico a metodologie analituche.\n",
    "* **Notazione neumatica**\n",
    "  - adiastematica\n",
    "  - neumatica in campo aperto\n",
    "  - alfabetica\n",
    "  - quadrata\n",
    "* **Notazione mensurale**\n",
    "  - quadrata\n",
    "  - bianca\n",
    "* **Notazione moderna** - i simboli musicali attuali.\n",
    "* **Oscillogramma** - rappresentazione del suono nel dominio del tempo.\n",
    "* **Spettrogramma** - rappresentazione del suono nel dominio delle frequenze in un preciso istante.\n",
    "* **Sonogramma** - rappresentazione del suono nel dominio delle frequenze nel tempo.\n",
    "* **Waterfall** - rappresentazione del suono nel dominio delle frequenze in grafica 3D.\n",
    "* **Diagrammi di flusso procedurali** - rappresentazione di un processo che può essere musicale e/o informatico.\n",
    "* **Algoritmi di sintesi** - rappresentazione del processamento di un segnale audio."
   ]
  },
  {
   "cell_type": "markdown",
   "id": "75044def-22fb-4b8e-bbf2-449031194229",
   "metadata": {},
   "source": [
    "## Domande sospese <a id='domande'></a>\n",
    "\n",
    "* Che **rapporto** c'é tra il **significato musicale** o espressivo che un **compositore** vuole trasmettere e la **modaltitá** attraverso la quale **annota** le informazioni necessarie alla riproduzione del brano o meglio esiste una relazione tra **notazione simbolica** ed espressione?\n",
    "\n",
    "* Un'estrema **precisione** nel fissare in partitura il **maggior** numero di **informazioni** è sempre **funzionale** alla **riproduzione corretta** del **pensiero compositivo**?\n",
    "\n",
    "* Ascoltando e seguendo le partiture dei seguenti bani:\n",
    "\n",
    "<center><video width=\"50%\" controls src=\"4_rappresenta/Corelli.mp4\"></video></center>\n",
    "<center><video width=\"50%\" controls src=\"4_rappresenta/Ferni.mp4\"></video></center>\n",
    "<center><video width=\"50%\" controls src=\"4_rappresenta/charlie.mp4\"></video></center>\n",
    "<center><video width=\"50%\" controls src=\"4_rappresenta/Gabrieli.mp4\"></video></center>\n",
    "\n",
    "* Che **relazione** c'é tra quanto **notato** e quanto **percepito**?\n",
    "* Che tipo di **espressività** è rappresentata in partitura?\n",
    "* Ci sono **informazioni mancanti** aggiunte dall'interprete?\n",
    "* Se sì **quali** e in base a quali meccanismi sono aggiunte?\n",
    "* E'possibile fare musica **espressiva** attraverso un **cumputer** e se sì come possiamo **notarla**?"
   ]
  }
 ],
 "metadata": {
  "kernelspec": {
   "display_name": "Python 3 (ipykernel)",
   "language": "python",
   "name": "python3"
  },
  "language_info": {
   "codemirror_mode": {
    "name": "ipython",
    "version": 3
   },
   "file_extension": ".py",
   "mimetype": "text/x-python",
   "name": "python",
   "nbconvert_exporter": "python",
   "pygments_lexer": "ipython3",
   "version": "3.12.4"
  }
 },
 "nbformat": 4,
 "nbformat_minor": 5
}
